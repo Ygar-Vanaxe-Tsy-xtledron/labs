{
 "cells": [
  {
   "cell_type": "code",
   "execution_count": 35,
   "id": "60e6ddbb",
   "metadata": {},
   "outputs": [],
   "source": [
    "import numpy as np\n",
    "import pandas as pd\n",
    "import matplotlib.pyplot as plt\n",
    "from scipy.optimize import curve_fit\n",
    "from labs import *\n",
    "from statistics import stdev"
   ]
  },
  {
   "attachments": {},
   "cell_type": "markdown",
   "id": "ee8c2a34",
   "metadata": {},
   "source": [
    "Цель работы: 1) исследование упругого деформирования резиновой пленки, в том числе при при больших удлининениях, когда оно становистя нелинейным; 2) измерение нагревания пленки при большом адибатчиеском растяжении и опредление теплоемкости пленки.\n",
    "\t\n",
    "В работе используются: образец резины, закрпленный в специальной установке; набор грузов; дифференциальная термопара; осциллограф <<GDS-71054B>>.\n",
    "\t\n",
    "Теоретическая часть\n",
    "Природа нагревания резины при растяжении\n",
    "Нагревание резин при растяжении можно понять, рассматривая их молекулярную структуру. Полимерные молекулы, из которых состоит резина, представляют собой длинные цепи углеродных (или кремниевых) атомов, нерегулярным образом свернутые в клубки. Такие «макромолекулы» случайными химическими связями соединены с соседними молекулами. Образование «сшивок» происходит в процессе вулканизации резин; чем их больше, тем резина жестче.\n",
    "\n",
    "«Макромолекулы» участвуют в тепловом движении, практически независимо друг от друга при отсутствии растяжения, и на каждую из них приходится тепловая энергия в соответствии с числом степеней свободы. Но при растяжении резины «макромолекулы» уже не могут двигаться независимо друг от друга, так как растягивающие силы объединяют их в более жесткое образование, более жесткую молекулу. Поэтому часть степеней свободы клубков «замораживается». При этом некоторая доля тепловой энергии клубков переходит в тепловую энергию молекулы и температура резины по этой причине может расти.\n",
    "\t\n",
    "Тот же результат можно получить и из термодинамических соображений. При растяжении резины происходит частичная ориентация клубков макромолекул, т. е. полный «беспорядок» в молекулярной структуре полимера сменяется частичным порядком. Упорядочение межмолекулярной структуры эквивалентно уменьшению энтропии образца (напомним, что в кинетической теории энтропия характеризует степень беспорядка в физической системе). Так как полная энтропия образца в условиях нашего эксперимента должна оставаться постоянной, ориентационное уменьшение энтропии должно компенсироваться усилением хаотического движения различных частей молекул друг относительно друга, иначе говоря, повышением температуры образца.\n",
    "\n",
    "Формальное описание нагревания резины\n",
    "Вместо того, чтобы исследовать поглощение или выделение тепла при изотермическом процессе, можно изучать изменение температуры теплоизолированного тела. Если процесс происходит быстро, то тело можно не изолировать, поскольку процессы теплообмена идут медленно. В этом случае речь идёт об изоэнтропийном расстяжении образца. Поэтому в нашем случае связь между удлинением образца и изменением его температуры может быть выражена следующей формулой\n",
    "\t\t\t\n",
    "$$dT = \\frac{T}{C_l}\\biggr(\\frac{\\partial f}{\\partial T}\\biggl)_l dl$$\n",
    "\t\t\t\n",
    "где $C_l$ - теплоемкость образца при постоянной длине. При больших изменениях длины образца выражение $dT = \\frac{T}{C_l}\\biggr(\\frac{\\partial f}{\\partial T}\\biggl)_l dl$ следует проинтегрировать. Изменения температуры обычной невелики, поэтому можно заменить $T$ на $T_0$:\n",
    "\t\t\t\n",
    "$$T - T_0 = \\frac{T_0}{C_l} \\int\\limits_{l_0}^l \\biggr(\\frac{\\partial f}{\\partial T}\\biggl)_l\\,dl$$\n",
    "\t\t\t\n",
    "Формула $T - T_0 = \\frac{T_0}{C_l} \\int\\limits_{l_0}^l \\biggr(\\frac{\\partial f}{\\partial T}\\biggl)_l\\,dl$ является окончательной и может быть применена для расчетов, если известна зависимость $f$ от $l$ и $T$. Эта зависимость не может быть поулчена теоретически и берется из опыта.\n",
    "\t\t\n",
    "У каучуков и резины модуль Юнга зависит как от удлинения, так и от температуры. Связь между $f$, $l$ и $T$ может быть описана эмпирической формулой\n",
    "\t\t\t\n",
    "$$f = \\frac{E(T)\\sigma_0}{3}\\biggr[\\lambda - \\frac{1 + 3\\alpha (T - T_0)}{\\lambda^2}\\biggl]$$\n",
    "\t\t\t\n",
    "Здесь $\\lambda = l / l_0$, а $\\sigma_0$ - начальное поперечное сечение образца. Модуль Юнга у резины пропорционален T:\n",
    "\n",
    "$$E = \\varkappa T$$\n",
    "\t\t\t\n",
    "Для вычисления термического эффекта при расстяжении резинового образца подставим (\\ref{eq:f=f(l,T)}) и (\\ref{eq:E=E(T)}) в (\\ref{eq:S_dT}). Интегрирование даёт\n",
    "\n",
    "$$\\Delta T = T - T_0 = \\frac{E \\sigma_0 l_0}{6C_l} (\\lambda - 1) \\biggr[\\lambda + 1 - \\frac{2}{\\lambda} (1 + 3\\alpha T_0) \\biggl].$$\n",
    "\t\t\t\t\t\t\t\n",
    "Нетрудно видеть, что при увеличении $\\lambda$ температура образца сначала уменьшается, а потом увеличивается. Пока $\\lambda$ мало отличается от единицы, естественно положить $\\lambda = 1 + \\Delta l/l$. Квадратная скобка в правой части~(\\ref{eq:DT}) при этом равна\n",
    "\t\t\t\n",
    "$$3\\biggr( \\frac{\\Delta l}{l} - 2\\alpha T_0 \\biggl)$$\n",
    "\t\t\t\n",
    "При совсем малых $\\Delta l / l$ в этом выражении основную роль играет второй член, так что температура при растяжении падает. Это вполне естественно, так как небольшие растяжения резины хорошо описываются обычным законом Гука.\n",
    "\n",
    "\n",
    "\n",
    "Исследвоание зависимости удлинения резины от величины груза, растягивающего образец\n",
    "Исследуем растяжение резины, сняв 7 экспериментальных точек при $1 \\leq \\lambda \\leq 2$ Чтобы обеспечить изотермические условия опыта, будем выжидать не менее двух минут после установки каждого нового груза. Измерения начнем с самого большого груза, т.е. с груза, который растягивает резину примерно в 2 раза.\n",
    "\t\t\n",
    "Построим график расстяжения, откладывая по оси абсцисс силу $f$, а по оси ординат -- выражение $\\lambda - 1 / \\lambda^2$. Из графика найдём модуль Юнга $E$ для резины.\n",
    "\t\t\n",
    "\t\t\n",
    "Исследование термических эффектов, сопровождающих растяжение резины\n",
    "Исследуем, как меняется температура резины в зависимости от времени. Для этого на осицллограф подадим сигнал с термопары, нагрузим платформу самым большим грузом и быстро опустим его таким образом, чтобы время опускания было мало, а колебания не возникли. Измерения будем проводить в течение нескольких минут, пока не установится тепловое равновесие.\n",
    "\t\t\n",
    "Полученные данные используем для построения зависимости $\\ln \\Delta T$ от $t$. Аппроксимируя полученный график к моменту $t = 0$, определим величину $\\Delta T_0$.\n",
    "\t\t\n",
    "\t\t"
   ]
  },
  {
   "cell_type": "code",
   "execution_count": 36,
   "id": "f0e0bd93",
   "metadata": {},
   "outputs": [
    {
     "data": {
      "text/html": [
       "<div>\n",
       "<style scoped>\n",
       "    .dataframe tbody tr th:only-of-type {\n",
       "        vertical-align: middle;\n",
       "    }\n",
       "\n",
       "    .dataframe tbody tr th {\n",
       "        vertical-align: top;\n",
       "    }\n",
       "\n",
       "    .dataframe thead th {\n",
       "        text-align: right;\n",
       "    }\n",
       "</style>\n",
       "<table border=\"1\" class=\"dataframe\">\n",
       "  <thead>\n",
       "    <tr style=\"text-align: right;\">\n",
       "      <th></th>\n",
       "      <th>m</th>\n",
       "      <th>l</th>\n",
       "      <th>f</th>\n",
       "    </tr>\n",
       "  </thead>\n",
       "  <tbody>\n",
       "    <tr>\n",
       "      <th>0</th>\n",
       "      <td>(0.1±0.01)</td>\n",
       "      <td>(1.02997±0.00001)</td>\n",
       "      <td>(1.±0.1)</td>\n",
       "    </tr>\n",
       "    <tr>\n",
       "      <th>1</th>\n",
       "      <td>(0.2±0.01)</td>\n",
       "      <td>(1.0999±0.00001)</td>\n",
       "      <td>(2.±0.1)</td>\n",
       "    </tr>\n",
       "    <tr>\n",
       "      <th>2</th>\n",
       "      <td>(0.41±0.01)</td>\n",
       "      <td>(1.23976±0.00001)</td>\n",
       "      <td>(4.1±0.1)</td>\n",
       "    </tr>\n",
       "    <tr>\n",
       "      <th>3</th>\n",
       "      <td>(0.18±0.01)</td>\n",
       "      <td>(1.08991±0.00001)</td>\n",
       "      <td>(1.8±0.1)</td>\n",
       "    </tr>\n",
       "    <tr>\n",
       "      <th>4</th>\n",
       "      <td>(0.17±0.01)</td>\n",
       "      <td>(1.08991±0.00001)</td>\n",
       "      <td>(1.7±0.1)</td>\n",
       "    </tr>\n",
       "  </tbody>\n",
       "</table>\n",
       "</div>"
      ],
      "text/plain": [
       "             m                  l          f\n",
       "0   (0.1±0.01)  (1.02997±0.00001)   (1.±0.1)\n",
       "1   (0.2±0.01)   (1.0999±0.00001)   (2.±0.1)\n",
       "2  (0.41±0.01)  (1.23976±0.00001)  (4.1±0.1)\n",
       "3  (0.18±0.01)  (1.08991±0.00001)  (1.8±0.1)\n",
       "4  (0.17±0.01)  (1.08991±0.00001)  (1.7±0.1)"
      ]
     },
     "execution_count": 36,
     "metadata": {},
     "output_type": "execute_result"
    }
   ],
   "source": [
    "m = pd.read_csv(\"const_temp.csv\")\n",
    "m[\"l\"] = m[\"l\"].agg(const_err(0.001)) #/ Value(0.11, 0.001)\n",
    "m[\"l\"] = (m[\"l\"] + 100.1) / 100.1\n",
    "m[\"m\"] = m[\"m\"] / 1000\n",
    "m[\"m\"] = m[\"m\"].agg(const_err(0.01))\n",
    "m[\"f\"] = m[\"m\"] * 10\n",
    "m.head()"
   ]
  },
  {
   "cell_type": "code",
   "execution_count": 37,
   "id": "60fa69c2",
   "metadata": {},
   "outputs": [
    {
     "data": {
      "text/plain": [
       "((9.4±0.3), (-8.1±0.5))"
      ]
     },
     "execution_count": 37,
     "metadata": {},
     "output_type": "execute_result"
    },
    {
     "data": {
      "image/png": "[encoded data removed]",
      "text/plain": [
       "<Figure size 1280x720 with 1 Axes>"
      ]
     },
     "metadata": {},
     "output_type": "display_data"
    }
   ],
   "source": [
    "def line(x, a, b):\n",
    "    return a * x + b\n",
    "\n",
    "params, cov = curve_fit(line, xdata=m[\"l\"], ydata=m[\"f\"], )\n",
    "k = Value(params[0], np.sqrt(cov[0][0]))\n",
    "b = Value(params[1], np.sqrt(cov[1][1]))\n",
    "\n",
    "plt.figure(figsize=(16, 9), dpi=80)\n",
    "plt.errorbar(x=m[\"l\"], xerr=m[\"l\"].agg(get_err), y=m[\"f\"], yerr=m[\"f\"].agg(get_err), fmt='.', label='Экспериментальные точки')\n",
    "plt.title(r\"$f(l)$\", fontsize=25)\n",
    "plt.xlabel(r\"$ \\lambda $\", fontsize=20)\n",
    "plt.ylabel(r\"$f, H$\", fontsize=20)\n",
    "plt.grid(True)\n",
    "plt.legend()\n",
    "plt.plot(m[\"l\"].agg(get_var), line(m[\"l\"].agg(get_var), get_var(k), get_var(b)), label=\"Истиная зависимость\")\n",
    "k, b"
   ]
  },
  {
   "cell_type": "code",
   "execution_count": 38,
   "id": "eaf18ef9",
   "metadata": {},
   "outputs": [
    {
     "name": "stdout",
     "output_type": "stream",
     "text": [
      "(5.5±0.1) (0.6±0.1)\n"
     ]
    },
    {
     "data": {
      "text/html": [
       "<div>\n",
       "<style scoped>\n",
       "    .dataframe tbody tr th:only-of-type {\n",
       "        vertical-align: middle;\n",
       "    }\n",
       "\n",
       "    .dataframe tbody tr th {\n",
       "        vertical-align: top;\n",
       "    }\n",
       "\n",
       "    .dataframe thead th {\n",
       "        text-align: right;\n",
       "    }\n",
       "</style>\n",
       "<table border=\"1\" class=\"dataframe\">\n",
       "  <thead>\n",
       "    <tr style=\"text-align: right;\">\n",
       "      <th></th>\n",
       "      <th>m</th>\n",
       "      <th>l</th>\n",
       "      <th>f</th>\n",
       "      <th>x</th>\n",
       "    </tr>\n",
       "  </thead>\n",
       "  <tbody>\n",
       "    <tr>\n",
       "      <th>0</th>\n",
       "      <td>(0.1±0.01)</td>\n",
       "      <td>(1.02997±0.00001)</td>\n",
       "      <td>(1.±0.1)</td>\n",
       "      <td>(0.08732±0.00002)</td>\n",
       "    </tr>\n",
       "    <tr>\n",
       "      <th>1</th>\n",
       "      <td>(0.2±0.01)</td>\n",
       "      <td>(1.0999±0.00001)</td>\n",
       "      <td>(2.±0.1)</td>\n",
       "      <td>(0.2733±0.00001)</td>\n",
       "    </tr>\n",
       "    <tr>\n",
       "      <th>2</th>\n",
       "      <td>(0.41±0.01)</td>\n",
       "      <td>(1.23976±0.00001)</td>\n",
       "      <td>(4.1±0.1)</td>\n",
       "      <td>(0.58914±0.00001)</td>\n",
       "    </tr>\n",
       "    <tr>\n",
       "      <th>3</th>\n",
       "      <td>(0.18±0.01)</td>\n",
       "      <td>(1.08991±0.00001)</td>\n",
       "      <td>(1.8±0.1)</td>\n",
       "      <td>(0.24809±0.00001)</td>\n",
       "    </tr>\n",
       "    <tr>\n",
       "      <th>4</th>\n",
       "      <td>(0.17±0.01)</td>\n",
       "      <td>(1.08991±0.00001)</td>\n",
       "      <td>(1.7±0.1)</td>\n",
       "      <td>(0.24809±0.00001)</td>\n",
       "    </tr>\n",
       "    <tr>\n",
       "      <th>5</th>\n",
       "      <td>(0.35±0.01)</td>\n",
       "      <td>(1.1998±0.00001)</td>\n",
       "      <td>(3.5±0.1)</td>\n",
       "      <td>(0.50512±0.00001)</td>\n",
       "    </tr>\n",
       "    <tr>\n",
       "      <th>6</th>\n",
       "      <td>(0.46±0.01)</td>\n",
       "      <td>(1.28971±0.00001)</td>\n",
       "      <td>(4.6±0.1)</td>\n",
       "      <td>(0.68851±0.00001)</td>\n",
       "    </tr>\n",
       "    <tr>\n",
       "      <th>7</th>\n",
       "      <td>(0.64±0.01)</td>\n",
       "      <td>(1.47952±0.00001)</td>\n",
       "      <td>(6.4±0.1)</td>\n",
       "      <td>(1.02269±0.00001)</td>\n",
       "    </tr>\n",
       "    <tr>\n",
       "      <th>8</th>\n",
       "      <td>(0.81±0.01)</td>\n",
       "      <td>(1.72927±0.00001)</td>\n",
       "      <td>(8.1±0.1)</td>\n",
       "      <td>(1.39486±0.00001)</td>\n",
       "    </tr>\n",
       "    <tr>\n",
       "      <th>9</th>\n",
       "      <td>(0.53±0.01)</td>\n",
       "      <td>(1.37962±0.00001)</td>\n",
       "      <td>(5.3±0.1)</td>\n",
       "      <td>(0.85423±0.00001)</td>\n",
       "    </tr>\n",
       "    <tr>\n",
       "      <th>10</th>\n",
       "      <td>(0.58±0.01)</td>\n",
       "      <td>(1.43956±0.00001)</td>\n",
       "      <td>(5.8±0.1)</td>\n",
       "      <td>(0.95701±0.00001)</td>\n",
       "    </tr>\n",
       "    <tr>\n",
       "      <th>11</th>\n",
       "      <td>(0.74±0.01)</td>\n",
       "      <td>(1.63936±0.00001)</td>\n",
       "      <td>(7.4±0.1)</td>\n",
       "      <td>(1.26727±0.00001)</td>\n",
       "    </tr>\n",
       "    <tr>\n",
       "      <th>12</th>\n",
       "      <td>(0.3±0.01)</td>\n",
       "      <td>(1.16983±0.00001)</td>\n",
       "      <td>(3.±0.1)</td>\n",
       "      <td>(0.4391±0.00001)</td>\n",
       "    </tr>\n",
       "    <tr>\n",
       "      <th>13</th>\n",
       "      <td>(1.04±0.01)</td>\n",
       "      <td>(1.999±0.00001)</td>\n",
       "      <td>(10.4±0.1)</td>\n",
       "      <td>(1.74875±0.00001)</td>\n",
       "    </tr>\n",
       "    <tr>\n",
       "      <th>14</th>\n",
       "      <td>(0.92±0.01)</td>\n",
       "      <td>(1.83916±0.00001)</td>\n",
       "      <td>(9.2±0.1)</td>\n",
       "      <td>(1.54352±0.00001)</td>\n",
       "    </tr>\n",
       "    <tr>\n",
       "      <th>15</th>\n",
       "      <td>(0.84±0.01)</td>\n",
       "      <td>(1.7992±0.00001)</td>\n",
       "      <td>(8.4±0.1)</td>\n",
       "      <td>(1.49028±0.00001)</td>\n",
       "    </tr>\n",
       "  </tbody>\n",
       "</table>\n",
       "</div>"
      ],
      "text/plain": [
       "              m                  l           f                  x\n",
       "0    (0.1±0.01)  (1.02997±0.00001)    (1.±0.1)  (0.08732±0.00002)\n",
       "1    (0.2±0.01)   (1.0999±0.00001)    (2.±0.1)   (0.2733±0.00001)\n",
       "2   (0.41±0.01)  (1.23976±0.00001)   (4.1±0.1)  (0.58914±0.00001)\n",
       "3   (0.18±0.01)  (1.08991±0.00001)   (1.8±0.1)  (0.24809±0.00001)\n",
       "4   (0.17±0.01)  (1.08991±0.00001)   (1.7±0.1)  (0.24809±0.00001)\n",
       "5   (0.35±0.01)   (1.1998±0.00001)   (3.5±0.1)  (0.50512±0.00001)\n",
       "6   (0.46±0.01)  (1.28971±0.00001)   (4.6±0.1)  (0.68851±0.00001)\n",
       "7   (0.64±0.01)  (1.47952±0.00001)   (6.4±0.1)  (1.02269±0.00001)\n",
       "8   (0.81±0.01)  (1.72927±0.00001)   (8.1±0.1)  (1.39486±0.00001)\n",
       "9   (0.53±0.01)  (1.37962±0.00001)   (5.3±0.1)  (0.85423±0.00001)\n",
       "10  (0.58±0.01)  (1.43956±0.00001)   (5.8±0.1)  (0.95701±0.00001)\n",
       "11  (0.74±0.01)  (1.63936±0.00001)   (7.4±0.1)  (1.26727±0.00001)\n",
       "12   (0.3±0.01)  (1.16983±0.00001)    (3.±0.1)   (0.4391±0.00001)\n",
       "13  (1.04±0.01)    (1.999±0.00001)  (10.4±0.1)  (1.74875±0.00001)\n",
       "14  (0.92±0.01)  (1.83916±0.00001)   (9.2±0.1)  (1.54352±0.00001)\n",
       "15  (0.84±0.01)   (1.7992±0.00001)   (8.4±0.1)  (1.49028±0.00001)"
      ]
     },
     "execution_count": 38,
     "metadata": {},
     "output_type": "execute_result"
    },
    {
     "data": {
      "image/png": "[encoded data removed]",
      "text/plain": [
       "<Figure size 1280x720 with 1 Axes>"
      ]
     },
     "metadata": {},
     "output_type": "display_data"
    }
   ],
   "source": [
    "m[\"x\"] = m[\"l\"] - 1 / (m[\"l\"] * m[\"l\"])\n",
    "\n",
    "def line(x, a1, b1):\n",
    "    return a1 * x + b1\n",
    "\n",
    "params, cov = curve_fit(line, xdata=m[\"x\"], ydata=m[\"f\"], )\n",
    "a1 = Value(params[0], np.sqrt(cov[0][0]))\n",
    "b1 = Value(params[1], np.sqrt(cov[1][1]))\n",
    "\n",
    "plt.figure(figsize=(16, 9), dpi=80)\n",
    "plt.errorbar(x=m[\"x\"], xerr=m[\"x\"].agg(get_err), y=m[\"f\"], yerr=m[\"f\"].agg(get_err), fmt='.', label='Экспериментальные точки')\n",
    "plt.title(r\"f(l)$\", fontsize=25)\n",
    "plt.xlabel(r\"$\\lambda - 1 / \\lambda ^ 2$\", fontsize=20)\n",
    "plt.ylabel(r\"$f, H$\", fontsize=20)\n",
    "plt.grid(True)\n",
    "plt.legend()\n",
    "plt.plot(m[\"x\"].agg(get_var), line(m[\"x\"].agg(get_var), get_var(a1), get_var(b1)), label=\"Истиная зависимость\")\n",
    "print(a1,b1)\n",
    "m"
   ]
  },
  {
   "attachments": {},
   "cell_type": "markdown",
   "id": "9a30f727",
   "metadata": {},
   "source": [
    "$$k = \\frac{E*S}{3}$$"
   ]
  },
  {
   "cell_type": "code",
   "execution_count": 39,
   "id": "b8b11aaf",
   "metadata": {},
   "outputs": [
    {
     "name": "stdout",
     "output_type": "stream",
     "text": [
      "(69.±1.1)\n"
     ]
    }
   ],
   "source": [
    "E=a1*3/(0.24)\n",
    "print(E)"
   ]
  },
  {
   "attachments": {},
   "cell_type": "markdown",
   "id": "044c731d",
   "metadata": {},
   "source": [
    "$$E=0.69±0.011 МПа$$"
   ]
  },
  {
   "attachments": {},
   "cell_type": "markdown",
   "id": "b910e995",
   "metadata": {},
   "source": [
    "Измерения при быстром растяжении резины "
   ]
  }
 ],
 "metadata": {
  "kernelspec": {
   "display_name": "Python 3",
   "language": "python",
   "name": "python3"
  },
  "language_info": {
   "codemirror_mode": {
    "name": "ipython",
    "version": 3
   },
   "file_extension": ".py",
   "mimetype": "text/x-python",
   "name": "python",
   "nbconvert_exporter": "python",
   "pygments_lexer": "ipython3",
   "version": "3.10.4"
  },
  "vscode": {
   "interpreter": {
    "hash": "afb734500600fd355917ca529030176ea0ca205570884b88f2f6f7d791fd3fbe"
   }
  }
 },
 "nbformat": 4,
 "nbformat_minor": 5
}
