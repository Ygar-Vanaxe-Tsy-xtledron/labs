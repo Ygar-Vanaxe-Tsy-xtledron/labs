{
 "cells": [
  {
   "cell_type": "markdown",
   "metadata": {},
   "source": [
    "# Лабораторная работа 3.1.3"
   ]
  },
  {
   "cell_type": "code",
   "execution_count": 43,
   "metadata": {},
   "outputs": [],
   "source": [
    "import os\n",
    "import matplotlib.pyplot as plt\n",
    "import numpy as np\n",
    "import pandas as pd"
   ]
  },
  {
   "cell_type": "markdown",
   "metadata": {},
   "source": [
    "      Измерение магнитного поля Земли\n",
    "Цель работы:\n",
    "Определить характеристики шарообразных неодимовых магнитов и, используя законы взаимодействия магнитных моментов с полем, измерить горизонтальную и вертикальную составляющие индукции магнитного поля Земли и магнитное наклонение.\n",
    "\n",
    "Оборудование:\n",
    "12 одинаковых неодимовых магнитных шариков, тонкая нить для изготовления крутильного маятника, медная проволока диаметром ($0,5 - 0,6$) мм, электронные весы, секундомер, измеритель магнитной индукции АТЕ-8702, штангенциркуль, брусок из немагнитного материала ($25\\times30\\times60$ мм$^3$), деревянная линейка, штатив из немагнитного материала; дополнительные неодимовые магнитные шарики ($\\sim$ 20 шт.) набор гирь и разновесов.\n",
    "Теоретическая справка:\n",
    "Точечный магнитный диполь:\n",
    "Простейший магнитный диполь может быть образован витком с током или постоянным магнитом. По определению, магнитный момент $\\vec{P_m}$ тонкого витка площадью $S$ с током $I$ равен:\n",
    "\\begin{equation*}\n",
    "\\vec{P_m} = \\dfrac{I}{c}\\vec{S} = \\dfrac{I}{c} S \\vec{n}\n",
    "\\end{equation*} \n",
    "где $c$ – скорость света в вакууме, $\\vec{S} = S \\vec{n}$ — вектор площади контура, образующий с направлением тока правовинтовую систему, $\\vec{n}$ --- единичный вектор нормали к площадке $S$ (это же направление $\\vec{P}_m$ принимается за направление $S \\to N$ от южного ($S$) к северному ($N$) полюсу). Если размеры контура с током или магнитной стрелки малы по сравнению расстоянием до диполя, то соответствующий магнитный диполь $\\vec{P}_m$ называют элементарным или точечным.\n",
    "\n",
    "Поле точечного диполя определяется по следующей формуле:\n",
    "\\begin{equation*}\n",
    "\\vec{B} = \\dfrac{3\\left(\\vec{P_m}, \\vec{r}\\right)\\vec{r}}{r^5} - \\dfrac{\\vec{P}_m}{r^3}\n",
    "\\end{equation*}\n",
    "В магнитном поле с индукцией $\\vec{B}$ на точечный магнитный диполь $\\vec{P}_m$ действует механический момент сил:\n",
    "\\begin{equation*}\n",
    "\\vec{M} = \\left[\\vec{P_m}, \\vec{B}\\right]\n",
    "\\end{equation*}\n",
    "Под действием вращающего момента $\\vec{M}$ виток с током или постоянный магнит поворачивается так, чтобы его магнитный момент выстроился вдоль вектора индукции магнитного поля. Это --- положение устойчивого равновесия: при отклонении от этого положения возникает механический момент внешних сил, возвращающий диполь к положению равновесия. В положении, когда $\\vec{P_m}$ и $\\vec{B}$ параллельны, но направлены противоположно друг другу, также имеет место равновесие ($M = 0$), но такое равновесие неустойчиво: малейшее отклонение от этого положения приведёт к появлению момента сил, стремящихся отклонить диполь ещё дальше от начального положения.\n",
    "\n",
    "Магнитный диполь в магнитном поле обладает энергией:\n",
    "\\begin{equation*}\n",
    "W = -\\left(\\vec{P_m}, \\vec{B}\\right)\n",
    "\\end{equation*}\n",
    "\n",
    "Неодимовые магниты:\n",
    "\n",
    "В настоящей работе используются неодимовые магниты шарообразной формы.\n",
    "Для нас важно то, что:\n",
    "\n",
    " шары намагничены однородно;\n",
    " \n",
    " вещество, из которого изготовлены магниты, является магнитожёстким материалом.\n",
    "\n",
    "Внутри такого шара магнитное поле равно \n",
    "\\begin{equation}\n",
    "B_0 = \\dfrac{2P_m}{R^3}\n",
    "\\end{equation}\n",
    "Полный магнитный момент $\\vec{P_m}$ постоянного магнита определяется намагниченностью $\\vec{p_m}$ вещества, из которого он изготовлен. По определению, намагниченность --- это магнитный момент единицы объёма. Для однородно намагниченного шара намагниченность, очевидно, равна:\n",
    "\\begin{equation}\n",
    "\\vec{p_m} = \\dfrac{\\vec{P_m}}{V}\n",
    "\\end{equation}\n",
    "Намагниченность — важная характеристика вещества постоянных магнитов, определяющая, в частности, величину остаточной магнитной индукции $B_r = 4 \\pi p_m$ (остаточная индукция $B_r$ --- одна из величин, которая, как правило, указывается в справочниках по магнитожёстким материалам).\n",
    "\\begin{equation}\n",
    "\\vec{B_P} = \\dfrac{8\\pi}{3}\\vec{p_m} = \\dfrac{2}{3} \\vec{B_r}\n",
    "\\end{equation}\n",
    "\\subsection*{Экспериментальное определение величины магнитного момента магнитных шариков}\n",
    "$P_m$ можно определить из параметров шарика и из расстояния $r_{max}$, на котором они удерживаются в поле тяжести.\n",
    "\\begin{equation}\n",
    "P_m = \\sqrt{\\dfrac{mgr_{max}^4}{6}}\n",
    "\\end{equation}\n",
    "\n",
    "$$\\vec{B_p} = \\dfrac{2\\vec{P_m}}{R^3}$$\n",
    "\n",
    "Определение величины магнитного момента по силе сцепления магнитных шариков:\n",
    "Если сила сцепления двух одинаковых шаров равна \n",
    "\\begin{equation}\n",
    "F_0 = \\dfrac{6P_m^2}{d^4} \\Rightarrow P_m = \\sqrt{\\dfrac{F_0d^4}{6}}\n",
    "\\end{equation}\n",
    "то минимальный вес цепочки, при которой она оторвется от верхнего шарика равен:\n",
    "\\begin{equation}\n",
    "F \\approx 1,08F_0\n",
    "\\end{equation}\n",
    "Измерение горизонтальной составляющей индукции магнитного поля Земли:\n",
    "\n",
    "\n",
    "При отклонении \"стрелки\" на угол $\\theta$ от равновесного положения в горизонтальной плоскости возникают крутильные колебания вокруг вертикальной оси, проходящей через середину стрелки. Если пренебречь упругостью нити, то уравнение крутильных колебаний такого маятника определяется возвращающим моментом сил $M = -P_0B_h \\sin \\theta$, действующим на \"стрелку\" со стороны магнитного поля Земли, и моментом инерции $I_n$ \"стрелки\" относительно оси вращения.\\\\\n",
    "При малых амплитудах:\n",
    "$$[T = 2\\pi \\sqrt{\\dfrac{I_n}{nP_mB_h}}]$$\n",
    "Пусть \n",
    "$$[T(n) = kn \\Rightarrow]$$\n",
    "\n",
    "$$k = \\pi \\sqrt{\\dfrac{md^2}{3P_m B_h}} \\Rightarrow B_h = \\dfrac{\\pi^2md^2}{3k^2P_m}$$\n",
    "\n",
    "Измерение вертикальной составляющей индукции магнитного поля Земли. Магнитное наклонение.:\n",
    "\n",
    "С помощью небольшого дополнительного грузика \"стрелку\" можно \"выровнять\", расположив её горизонтально: в этом случае момент силы тяжести груза относительно точки подвеса будет равен моменту сил, действующих на \"стрелку\" со стороны магнитного поля Земли. Если масса уравновешивающего груза равна $m$, плечо силы тяжести $r$, а полный магнитный момент \"стрелки\" $P_0 = nP_m$, то в равновесии:\n",
    "$$[mgr = P_0 B_v = nP_mB_v]$$\n",
    "Пусть $M(n) = An \\Rightarrow$\n",
    "\\begin{equation}\n",
    "B_v = \\dfrac{A}{P_m}\n",
    "\\end{equation}"
   ]
  },
  {
   "cell_type": "code",
   "execution_count": 44,
   "metadata": {},
   "outputs": [],
   "source": [
    "# 20 щариков"
   ]
  },
  {
   "cell_type": "code",
   "execution_count": 45,
   "metadata": {},
   "outputs": [
    {
     "data": {
      "text/plain": [
       "0.58"
      ]
     },
     "execution_count": 45,
     "metadata": {},
     "output_type": "execute_result"
    }
   ],
   "source": [
    "from scipy.optimize import curve_fit\n",
    "import math\n",
    "import matplotlib.pyplot as plt\n",
    "sigmam = 0.001\n",
    "m0 = 8.310\n",
    "M = 25.089\n",
    "msh = (M - m0) / 20\n",
    "sigmash = sigmam / 20\n",
    "L = 11.6\n",
    "D = L / 20\n",
    "sigmaD = 0.05 / 20\n",
    "rmax = 1.6\n",
    "sigmarmax = 0.05\n",
    "D"
   ]
  },
  {
   "cell_type": "code",
   "execution_count": 46,
   "metadata": {},
   "outputs": [
    {
     "name": "stdout",
     "output_type": "stream",
     "text": [
      "Магнитный момент шарика равна: 29.982433769125553 ± 0.002\n"
     ]
    }
   ],
   "source": [
    "Pm = rmax**2 * np.sqrt(msh*981/6)\n",
    "sigmaPm = Pm * np.sqrt((sigmash/msh)**2)\n",
    "print(f'Магнитный момент шарика равна: {Pm} ± {np.round(sigmaPm, 3)}')"
   ]
  },
  {
   "cell_type": "code",
   "execution_count": 47,
   "metadata": {},
   "outputs": [
    {
     "name": "stdout",
     "output_type": "stream",
     "text": [
      "Намагниченность материала шарика равна: 293.48389890616875 ± 1.0\n"
     ]
    }
   ],
   "source": [
    "pm = Pm / (math.pi * (D/2)**3 * 4 / 3)\n",
    "sigmapm = pm * np.sqrt((sigmaD/D)**2 + (sigmaPm/Pm)**2)\n",
    "print(f'Намагниченность материала шарика равна: {pm} ± {np.round(sigmapm,0)}')"
   ]
  },
  {
   "cell_type": "code",
   "execution_count": 48,
   "metadata": {},
   "outputs": [
    {
     "name": "stdout",
     "output_type": "stream",
     "text": [
      "Магнитное поле на полюсах шариков: 2458.6849620013577 ± 11.0\n"
     ]
    }
   ],
   "source": [
    "Bp = (8*math.pi/3) * pm\n",
    "sigmaBp = Bp * (sigmapm/pm)\n",
    "print(f'Магнитное поле на полюсах шариков: {Bp} ± {np.round(sigmaBp)}')"
   ]
  },
  {
   "cell_type": "code",
   "execution_count": 49,
   "metadata": {},
   "outputs": [
    {
     "name": "stdout",
     "output_type": "stream",
     "text": [
      "Остаточная магнитная индукция: 3688.0274430020363 ± 16.0\n"
     ]
    }
   ],
   "source": [
    "Br = 1.5 * Bp\n",
    "sigmaBr = Br * sigmaBp/Bp\n",
    "print(f'Остаточная магнитная индукция: {Br} ± {np.round(sigmaBr)}')"
   ]
  },
  {
   "cell_type": "code",
   "execution_count": 50,
   "metadata": {
    "scrolled": true
   },
   "outputs": [
    {
     "name": "stdout",
     "output_type": "stream",
     "text": [
      "    0   1      2\n",
      "0  11  10  44.25\n",
      "1  10  10  39.02\n",
      "2   9  10  35.38\n",
      "3   8  10  31.20\n",
      "4   7  10  27.95\n",
      "5   6  10  24.06\n",
      "6   5  10  20.62\n",
      "7   4  10  16.53\n"
     ]
    }
   ],
   "source": [
    "# Задание 2\n",
    "import pandas as pd\n",
    "N = (11, 10, 9, 8, 7, 6, 5, 4)\n",
    "n = (10 for _ in range(len(N)))\n",
    "t = np.array([44.25, 39.02, 35.38, 31.20, 27.95, 24.06, 20.62, 16.53])\n",
    "totN = pd.DataFrame(zip(N, n, t))\n",
    "print(totN)"
   ]
  },
  {
   "cell_type": "code",
   "execution_count": 51,
   "metadata": {},
   "outputs": [
    {
     "data": {
      "image/png": "[encoded data removed]",
      "text/plain": [
       "<Figure size 800x800 with 1 Axes>"
      ]
     },
     "metadata": {},
     "output_type": "display_data"
    }
   ],
   "source": [
    "plot_1 = plt.figure(figsize=(10*0.8,10*0.8))\n",
    "plt.grid(visible=True, linewidth=0.6)\n",
    "\n",
    "plt.title('Зависимость $T(n)$', fontsize=18)\n",
    "#plt.xlim(xmin=0, xmax=0.03)\n",
    "#plt.ylim(ymin=0, ymax=100)\n",
    "plt.ylabel('$T$, с', fontsize=20, rotation=0, ha='right')\n",
    "plt.xlabel('$n$, кол-во шариков', fontsize=20)\n",
    "plt.tick_params(axis='both', which='major', labelsize=16, size=10)\n",
    "plt.grid(visible=True, linewidth=0.6)\n",
    "\n",
    "\n",
    "\n",
    "yerr_1 = 0.02 * t\n",
    "#xerr_1 = 0.5\n",
    "\n",
    "\n",
    "\n",
    "#z, err = np.polyfit(D, Q[1], deg=1, cov=True)\n",
    "#polynom_2 = np.poly1d(z)\n",
    "#plt.plot(D, polynom_2(D),\"b--\", linewidth=1, label=\"МНК\")\n",
    "\n",
    "plt.errorbar(\n",
    "    N,\n",
    "    t,\n",
    "    fmt='ko',\n",
    "    linewidth=1,\n",
    "    markersize=3,\n",
    "    elinewidth=1,\n",
    "    label='$T(n)$',\n",
    "    #xerr=xerr_1,\n",
    "    yerr=yerr_1,\n",
    "    capsize=3\n",
    ")\n",
    "\n",
    "\n",
    "\n",
    "z = np.polyfit(N, t, deg=1)\n",
    "polynom_1 = np.poly1d(z)\n",
    "N = np.array([11, 10, 9, 8, 7, 6, 5, 4])\n",
    "plt.plot(N, polynom_1(N),\"r--\", linewidth=1, label=\"МНК\")\n",
    "\n",
    "\n",
    "plt.legend(fontsize=10, markerscale = 1)\n",
    "plt.show()\n"
   ]
  },
  {
   "cell_type": "code",
   "execution_count": 52,
   "metadata": {},
   "outputs": [
    {
     "data": {
      "text/plain": [
       "(3.9719512195121953, 0.06961957791634521, 1.01464285714286)"
      ]
     },
     "execution_count": 52,
     "metadata": {},
     "output_type": "execute_result"
    }
   ],
   "source": [
    "x = N\n",
    "y = t\n",
    "n = len(N)\n",
    "k = (np.mean(x * y) - np.mean(x) * np.mean(y)) / (np.mean(x * x) - np.mean(x) ** 2)\n",
    "b = np.mean(y) - k * np.mean(x)\n",
    "k_o = np.mean(x*y) / np.mean(x ** 2)\n",
    "error_k = 1 / np.sqrt(n) * np.sqrt(((np.mean(y * y)) - np.mean(y) ** 2) / (np.mean(x * x) - np.mean(x) ** 2) - k**2)\n",
    "k_o, error_k, b"
   ]
  },
  {
   "cell_type": "code",
   "execution_count": 53,
   "metadata": {},
   "outputs": [
    {
     "name": "stdout",
     "output_type": "stream",
     "text": [
      "0.0019628895404180495 0.0001306683193005473\n"
     ]
    }
   ],
   "source": [
    "Bh = math.pi ** 2 * msh* D**2 / (3 * k_o**2 * Pm)\n",
    "sigmaBh = Bh * ((sigmash/msh)**2 + (error_k**(1/2) / k_o)**2 + (sigmaPm / Pm)**2 + (sigmaD / D)**2)**(1/2)\n",
    "print(Bh, sigmaBh)"
   ]
  },
  {
   "cell_type": "markdown",
   "metadata": {},
   "source": [
    "B_горизонтальная=1.96 +- 0.013 *  10 ^ (-5) "
   ]
  },
  {
   "cell_type": "code",
   "execution_count": 54,
   "metadata": {},
   "outputs": [
    {
     "data": {
      "text/html": [
       "<div>\n",
       "<style scoped>\n",
       "    .dataframe tbody tr th:only-of-type {\n",
       "        vertical-align: middle;\n",
       "    }\n",
       "\n",
       "    .dataframe tbody tr th {\n",
       "        vertical-align: top;\n",
       "    }\n",
       "\n",
       "    .dataframe thead th {\n",
       "        text-align: right;\n",
       "    }\n",
       "</style>\n",
       "<table border=\"1\" class=\"dataframe\">\n",
       "  <thead>\n",
       "    <tr style=\"text-align: right;\">\n",
       "      <th></th>\n",
       "      <th>0</th>\n",
       "      <th>1</th>\n",
       "      <th>2</th>\n",
       "    </tr>\n",
       "  </thead>\n",
       "  <tbody>\n",
       "    <tr>\n",
       "      <th>0</th>\n",
       "      <td>8</td>\n",
       "      <td>8.432</td>\n",
       "      <td>0.171</td>\n",
       "    </tr>\n",
       "    <tr>\n",
       "      <th>1</th>\n",
       "      <td>6</td>\n",
       "      <td>8.389</td>\n",
       "      <td>0.128</td>\n",
       "    </tr>\n",
       "    <tr>\n",
       "      <th>2</th>\n",
       "      <td>4</td>\n",
       "      <td>8.337</td>\n",
       "      <td>0.076</td>\n",
       "    </tr>\n",
       "  </tbody>\n",
       "</table>\n",
       "</div>"
      ],
      "text/plain": [
       "   0      1      2\n",
       "0  8  8.432  0.171\n",
       "1  6  8.389  0.128\n",
       "2  4  8.337  0.076"
      ]
     },
     "execution_count": 54,
     "metadata": {},
     "output_type": "execute_result"
    }
   ],
   "source": [
    "# Задание 3, m0 = 8.261\n",
    "m = (8.432, 8.389, 8.337)\n",
    "dm = (0.171, 0.128, 0.076)\n",
    "N = np.array([8, 6, 4])\n",
    "\n",
    "MotN = pd.DataFrame(zip(N, m, dm))\n",
    "MotN"
   ]
  },
  {
   "cell_type": "code",
   "execution_count": 59,
   "metadata": {},
   "outputs": [
    {
     "name": "stdout",
     "output_type": "stream",
     "text": [
      "[291.88674000000003, 145.65887999999998, 43.24247999999999]\n"
     ]
    }
   ],
   "source": [
    "m  = [0.171, 0.128, 0.076]\n",
    "N = [8, 6, 4]\n",
    "sigmam = 0.001\n",
    "M = []\n",
    "for i in range (3):\n",
    "    M.append(m[i] * 981 * ((N[i]/2) - 1) * D)\n",
    "sigmaM = []\n",
    "for i in range (3):\n",
    "    sigmaM.append(M[i] * ((sigmam / m[i])**2 + (sigmaD / D)**2)**(1/2))\n",
    "print(M)\n",
    "M=np.array([291.88674000000003, 145.65887999999998, 43.24247999999999])"
   ]
  },
  {
   "cell_type": "code",
   "execution_count": 58,
   "metadata": {},
   "outputs": [
    {
     "data": {
      "text/plain": [
       "array([291.88674, 145.65888,  43.24248])"
      ]
     },
     "execution_count": 58,
     "metadata": {},
     "output_type": "execute_result"
    }
   ],
   "source": [
    "M"
   ]
  },
  {
   "cell_type": "code",
   "execution_count": null,
   "metadata": {},
   "outputs": [
    {
     "name": "stderr",
     "output_type": "stream",
     "text": [
      "<>:7: SyntaxWarning: invalid escape sequence '\\c'\n",
      "<>:7: SyntaxWarning: invalid escape sequence '\\c'\n",
      "/var/folders/22/r034tgc508146mmzbyqzpmqm0000gn/T/ipykernel_24149/1723499073.py:7: SyntaxWarning: invalid escape sequence '\\c'\n",
      "  plt.ylabel('$M$, мкН$\\cdot$м', fontsize=20, rotation=0, ha='right')\n"
     ]
    },
    {
     "data": {
      "image/png": "[encoded data removed]",
      "text/plain": [
       "<Figure size 1080x900 with 1 Axes>"
      ]
     },
     "metadata": {},
     "output_type": "display_data"
    }
   ],
   "source": [
    "plot_2 = plt.figure(figsize=(12*0.9,10*0.9))\n",
    "plt.grid(visible=True, linewidth=0.6)\n",
    "\n",
    "plt.title('Зависимость $M(n)$', fontsize=18)\n",
    "#plt.xlim(xmin=0, xmax=0.03)\n",
    "#plt.ylim(ymin=0, ymax=100)\n",
    "plt.ylabel('$M$, мкН$\\cdot$м', fontsize=20, rotation=0, ha='right')\n",
    "plt.xlabel('$n$, кол-во шариков', fontsize=20)\n",
    "plt.tick_params(axis='both', which='major', labelsize=16, size=10)\n",
    "plt.grid(visible=True, linewidth=0.6)\n",
    "\n",
    "\n",
    "\n",
    "yerr_1 = 0.05 * M\n",
    "#xerr_1 = 0.5\n",
    "\n",
    "\n",
    "\n",
    "#z, err = np.polyfit(D, Q[1], deg=1, cov=True)\n",
    "#polynom_2 = np.poly1d(z)\n",
    "#plt.plot(D, polynom_2(D),\"b--\", linewidth=1, label=\"МНК\")\n",
    "\n",
    "plt.errorbar(\n",
    "    N,\n",
    "    M,\n",
    "    fmt='ko',\n",
    "    linewidth=1,\n",
    "    markersize=3,\n",
    "    elinewidth=1,\n",
    "    label='$M(n)$',\n",
    "    #xerr=xerr_1,\n",
    "    yerr=yerr_1,\n",
    "    capsize=3\n",
    ")\n",
    "\n",
    "\n",
    "\n",
    "z = np.polyfit(N, M, deg=1)\n",
    "polynom_1 = np.poly1d(z)\n",
    "N = np.array([\n",
    "8, 6, 4])\n",
    "plt.plot(N, polynom_1(N),\"r--\", linewidth=1, label=\"МНК\")\n",
    "\n",
    "\n",
    "plt.legend(fontsize=18, markerscale = 1)\n",
    "plt.show()\n"
   ]
  },
  {
   "cell_type": "code",
   "execution_count": null,
   "metadata": {},
   "outputs": [
    {
     "data": {
      "text/plain": [
       "(62.16106500000009, 3.650954999999827, -212.70369000000056)"
      ]
     },
     "execution_count": 37,
     "metadata": {},
     "output_type": "execute_result"
    }
   ],
   "source": [
    "x = N\n",
    "y = M\n",
    "n = len(N)\n",
    "k = (np.mean(x * y) - np.mean(x) * np.mean(y)) / (np.mean(x * x) - np.mean(x) ** 2)\n",
    "b = np.mean(y) - k * np.mean(x)\n",
    "k_o = np.mean(x*y) / np.mean(x ** 2)\n",
    "error_k = 1 / np.sqrt(n) * np.sqrt(((np.mean(y * y)) - np.mean(y) ** 2) / (np.mean(x * x) - np.mean(x) ** 2) - k**2)\n",
    "k, error_k, b"
   ]
  },
  {
   "cell_type": "code",
   "execution_count": null,
   "metadata": {},
   "outputs": [
    {
     "name": "stdout",
     "output_type": "stream",
     "text": [
      "2.073249472629888\n",
      "0.12176986390515039\n"
     ]
    }
   ],
   "source": [
    "Bv = k / Pm\n",
    "sigmaBv = Bv * ((sigmaPm / Pm)**2 + (error_k / k)**2)**(1/2)\n",
    "print(Bv)\n",
    "print(sigmaBv)"
   ]
  },
  {
   "cell_type": "code",
   "execution_count": null,
   "metadata": {},
   "outputs": [
    {
     "name": "stdout",
     "output_type": "stream",
     "text": [
      "Величина магнитного поля Земли составила: 2.1 Тл\n"
     ]
    }
   ],
   "source": [
    "print(f'Величина магнитного поля Земли составила: {np.round((Bh**2 + Bv**2)**(1/2) / 1, 1)} Тл')"
   ]
  },
  {
   "cell_type": "code",
   "execution_count": null,
   "metadata": {},
   "outputs": [
    {
     "name": "stdout",
     "output_type": "stream",
     "text": [
      "1.569849557493933\n"
     ]
    }
   ],
   "source": [
    "print(np.arctan(Bv / Bh))"
   ]
  },
  {
   "cell_type": "markdown",
   "metadata": {},
   "source": [
    "По графику видно, что данные плохо ложатся на прямую даже в пределах погрешности. Это обусловлено тем, что набор возможных грузов и, соответственно, моментов дискретен и не может быть подобран более точно, из-за чего и выбивается из теоретической погрешности.\n",
    "По наклону фитирующей прямой была вычеслена вертикальная компонента магнитного поля земли, которая составила $B_v = \\frac{M}{n\\mathfrak{m}} = 2,1 \\pm 0.12 \\cdot 10^{-5} \\text{Тл}$.\n",
    "\n",
    "Табличные данные магнитного поля в Москве :\n",
    "\n",
    "$$B_{\\text{табл}} = 5 \\cdot 10^{-5} \\text{Тл}$$\n",
    "$$B_{\\text{эксп}} = 2.1 \\cdot 10^{-5} \\text{Тл}$$"
   ]
  }
 ],
 "metadata": {
  "kernelspec": {
   "display_name": "Python 3 (ipykernel)",
   "language": "python",
   "name": "python3"
  },
  "language_info": {
   "codemirror_mode": {
    "name": "ipython",
    "version": 3
   },
   "file_extension": ".py",
   "mimetype": "text/x-python",
   "name": "python",
   "nbconvert_exporter": "python",
   "pygments_lexer": "ipython3",
   "version": "3.12.0"
  }
 },
 "nbformat": 4,
 "nbformat_minor": 4
}
