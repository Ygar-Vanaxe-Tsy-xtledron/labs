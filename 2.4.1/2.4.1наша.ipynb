{
 "cells": [
  {
   "attachments": {},
   "cell_type": "markdown",
   "metadata": {},
   "source": [
    "Цель работы: 1) измерение давления насыщенного пара жидкости при разной температуре; 2) вычисление по полученным данным теплоты испарения с помощью уравнения Клапейрона-Клаузиуса.\n",
    "\n",
    "В работе используются: термостат, герметический сосуд, заполненный водой, отсчётный микроскоп.\n",
    "\n",
    "\n",
    "Теоретическая часть\n",
    "Уравнение Клапейрона-Клаузиуса\n",
    "Если считать что насыщенные пары подчиняются закона Менделеева-Клапейрона, и пренебречь удельным объемом жидкости относительно удельного объема паров то из уравнения Клапейрона-Клаузиуса получаем формулу для удельной теплоты испарения\n",
    "\n",
    "\n",
    "$$L = \\frac{RT^2}{\\mu P}\\frac{dP}{dT} = - \\frac{R}{\\mu} \\frac{d(ln P)}{d(1/T)}$$\n",
    "  \n",
    "Как видим, если измерить зависимость давления насыщенных паров от температуры по формуле можно получить удельную теплоту испарения."
   ]
  },
  {
   "cell_type": "code",
   "execution_count": null,
   "metadata": {},
   "outputs": [],
   "source": [
    "import numpy as np\n",
    "import pandas as pd\n",
    "import matplotlib.pyplot as plt\n",
    "#from scipy.optimize import curve_fit\n",
    "from labs import *\n",
    "from statistics import stdev"
   ]
  },
  {
   "cell_type": "code",
   "execution_count": null,
   "metadata": {},
   "outputs": [],
   "source": [
    "nag=pd.read_csv('Нагрев.csv')\n",
    "nag['dh']=abs(nag['h2']-nag['h1'])\n",
    "nag['sigmadh']=sigmah*np.sqrt(2)\n",
    "nag['P']=po*g*nag['dh']*0.001\n",
    "nag['relh']=nag['sigmadh']/nag['dh']\n",
    "nag['sigmaP']=nag['P']*nag['relh']\n",
    "nag['lnP']=np.log(nag['P'])\n",
    "nag['sigmalnP']=nag['sigmaP']/nag['P']\n",
    "nag['T']=273+nag['T']\n",
    "nag['1T']=1/nag['T']\n",
    "nag['sigma1T']=nag['1T']*(sigmaT/nag['T'])\n",
    "nag"
   ]
  }
 ],
 "metadata": {
  "language_info": {
   "name": "python"
  },
  "orig_nbformat": 4
 },
 "nbformat": 4,
 "nbformat_minor": 2
}
