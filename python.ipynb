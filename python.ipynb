{
 "cells": [
  {
   "cell_type": "code",
   "execution_count": 18,
   "metadata": {},
   "outputs": [],
   "source": [
    "import random\n",
    "from statistics import median, mean"
   ]
  },
  {
   "cell_type": "code",
   "execution_count": 27,
   "metadata": {},
   "outputs": [
    {
     "data": {
      "text/plain": [
       "[[4, 3.073, 5],\n",
       " [23, 3.387, 5],\n",
       " [15, 3.734, 5],\n",
       " [1, 3.864, 5],\n",
       " [3, 4.136, 5],\n",
       " [10, 4.217, 5],\n",
       " [17, 4.288, 6],\n",
       " [8, 4.572, 6],\n",
       " [18, 5.442, 6],\n",
       " [16, 5.475, 6],\n",
       " [12, 6.042, 6],\n",
       " [14, 6.625, 6],\n",
       " [5, 7.117, 6],\n",
       " [22, 7.159, 6],\n",
       " [2, 7.344, 6],\n",
       " [13, 7.64, 6],\n",
       " [24, 7.855, 7],\n",
       " [11, 7.93, 7],\n",
       " [6, 7.938, 7],\n",
       " [9, 8.281, 7],\n",
       " [20, 8.556, 8],\n",
       " [19, 8.792, 8],\n",
       " [7, 8.9, 8],\n",
       " [21, 9.698, 9]]"
      ]
     },
     "execution_count": 27,
     "metadata": {},
     "output_type": "execute_result"
    }
   ],
   "source": [
    "marks = {i + 1:random.random() * 7 + 3 for i in range(24)}\n",
    "marks # сгенерировали номер ученика и соответствующую оценку\n",
    "\n",
    "l = sorted(list(map(lambda x: [x, marks[x]], marks)), key=lambda x: x[1])\n",
    "l = list(map(lambda x: [x[0], round(x[1], 3)], l))\n",
    "\n",
    "ex = sorted([5] * 6 + [6] * 10 + [7] * 4 + [8] * 3 + [9] * 1)\n",
    "for i in range(len(l)):\n",
    "    l[i].append(ex[i])\n",
    "l.sort(key=lambda x: x[1])\n",
    "l # итоговые оценки [номер ученика, прошлая оценка, новая оценка]"
   ]
  },
  {
   "cell_type": "code",
   "execution_count": 29,
   "metadata": {},
   "outputs": [
    {
     "data": {
      "text/plain": [
       "21.333333333333336"
      ]
     },
     "execution_count": 29,
     "metadata": {},
     "output_type": "execute_result"
    }
   ],
   "source": [
    "median(map(lambda x: x[2], l))\n",
    "sum(map(lambda x: abs(x - mean(ex)), ex))"
   ]
  },
  {
   "cell_type": "markdown",
   "metadata": {},
   "source": [
    "TODO равные до сотой оцеки должы конвертировать в равные"
   ]
  },
  {
   "cell_type": "code",
   "execution_count": 11,
   "metadata": {},
   "outputs": [],
   "source": [
    "def dict_mean(d):\n",
    "    return sum((m * d[m] for m in d)) / sum((d[m] for m in d))\n",
    "\n",
    "def dict_err(d):\n",
    "    ans = 0\n",
    "    for m in d:\n",
    "        ans += abs(round(m) - dict_mean(d)) * d[m]\n",
    "    return ans\n",
    "\n",
    "def dict_more_less(d):\n",
    "    less = 0\n",
    "    more = 0\n",
    "    for m in d:\n",
    "        if round(m) < 6:\n",
    "            less += 1\n",
    "        elif round(m) > 6:\n",
    "            more += 1\n",
    "    return (less, more)"
   ]
  },
  {
   "cell_type": "code",
   "execution_count": 12,
   "metadata": {},
   "outputs": [],
   "source": [
    "d = {\n",
    "    10: 8,\n",
    "    9: 6,\n",
    "    8: 7,\n",
    "    7: 3,\n",
    "}"
   ]
  },
  {
   "cell_type": "code",
   "execution_count": 15,
   "metadata": {},
   "outputs": [
    {
     "data": {
      "text/plain": [
       "21.833333333333336"
      ]
     },
     "execution_count": 15,
     "metadata": {},
     "output_type": "execute_result"
    }
   ],
   "source": [
    "dict_err(d)"
   ]
  }
 ],
 "metadata": {
  "kernelspec": {
   "display_name": "Python 3",
   "language": "python",
   "name": "python3"
  },
  "language_info": {
   "codemirror_mode": {
    "name": "ipython",
    "version": 3
   },
   "file_extension": ".py",
   "mimetype": "text/x-python",
   "name": "python",
   "nbconvert_exporter": "python",
   "pygments_lexer": "ipython3",
   "version": "3.12.0"
  },
  "orig_nbformat": 4
 },
 "nbformat": 4,
 "nbformat_minor": 2
}
