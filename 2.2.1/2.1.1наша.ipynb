{
 "cells": [
  {
   "attachments": {},
   "cell_type": "markdown",
   "metadata": {},
   "source": [
    " Цель работы: 1) регистрация зависимости концентрации гелия в воздухе от времени с помощью датчиков теплопроводности при разных начальных давлениях смеси газов; 2) определение коэффициента диффузии по результатам измерений.\n",
    "\n",
    "В работе используются: измерительная установка; форвакуумный насос; балон с газом  (гелий); манометр; источник питания; магазин сопротивлений; гальванометр; секундомер.\n",
    "\n",
    "\n",
    "Теоретическая часть:\n",
    "   Диффузией  называют самопроизвольное взаимное проникновение веществ друг в друга происходящее вследствие хаотичного теплового движения молекул. При перемешивании молекул разного сорта говорят о взаимной (или концентрационной) диффузии. В системе, состоящей из двух компонентов a и b (бинарная смесь), плотности потоков частиц в результате взаимной диффузии определяются законом Фика:\n",
    "   $$ j_a = -D \\frac{\\partial n_a}{\\partial x} $$ \n",
    "   $$\n",
    "        j_b = -D \\frac{\\partial n_b}{\\partial x}\n",
    "        $$\n",
    "   \n",
    "   где $D$ — коэффициент взаимной диффузии компонентов. Знак <<минус>> отражает тот факт, что диффузия идёт в направлении выравнивания концентраций. Равновесие достигается при равномерном распределении вещества по объёму.\n",
    "   В данной работе исследуется взаимная диффузия гелия и воздуха. Отметим, что давление и температура в системе предполагаются неизменным: $P_0 = (n_{He}+n_{Air})kT = const$, где $n_{He}$  и $n_{Air}$ -- концентрации диффундирующих газов. Поэтому для любых изменений концентраций справедливо $\\Delta n_{Air} = -\\Delta n_{He}$. Следовательно, достаточно ограничиться описанием диффузии одного из компонентов, например гелия.\n",
    "   Приведём теоретическую оценку для коэффициента диффузии. В работе концентрация гелия, как правило, мала ($n_{He} \\ll n_{Air}$). Кроме того, атомы гелия легче молекул, составляющих воздух ($m_{He} \\ll m_{N_2}, m_{O_2}$), значит их средняя тепловая скорость велика по сравнению с остальными частицами. Поэтому перемешивание газов в работе можно приближенно описывать как диффузию примеси лёгких частиц He на практически стационарном фоне воздуха. Коэффициент диффузии в таком приближении равен:\n",
    "   $$D = \\frac{1}{3} \\lambda \\langle v \\rangle$$\n",
    "   где $\\lambda = \\frac{1}{n\\sigma}$ -- длина свободного пробега диффундирующих частиц; $\\langle v \\rangle = \\sqrt{\\frac{8kT}{\\pi m}}$ -- их средняя тепловая скорость.\n",
    "   Предпологая, что процесс диффузии будет квазиостационарным, можно показать, что разность концентраций будет убывать по экспоненциальному закону\n",
    "   $$\\Delta n = \\Delta n_0 e^{-t / \\tau}$$\n",
    "   где $\\tau $ -- характерное время выравнивания концентраций между сосудами, определяемое следующей формулой\n",
    "   $$ \\tau = \\frac{1}{D} \\frac{V_1V_2}{V_1 + V_2} \\frac{L}{S} $$\n",
    "Модель эксперимента\n",
    "    Для   исследования   взаимной диффузии газов и измерения коэффициента взаимной диффузии  $D$  используется  два сосуда  объёмами  $V_1$ и $V_2$ ($V_1 \\approx V_2$), соединенные трубкой длины $L$ и сечения  $S$. Предполагается, что сосуды заполнены смесью двух газов при одинаковом давлении, но с различной концентрацией компонентов. Вследствие взаимной диффузии, проходящей в   соединительной трубке, концентрации компонентов в сосудах с течением времени выравниваются.\n",
    "    Для измерения разности  концентраций  в установке применяются датчики теплопроводности. При этом используется тот факт, что теплопроводность смеси $\\kappa$ зависит от её состава. В общем случае   зависимость  $\\kappa (n)$  довольно   сложна,   однако   при   малой   разности  $\\Delta n$ концентраций в сосудах можно ожидать, что разность теплопроводностей будет изменяться прямо пропорционально $\\Delta n:$\n",
    "    $$\\Delta \\kappa = \\kappa (n_2) - \\kappa (n_1) \\approx const \\cdot \\Delta n$$\n",
    "     Эксперименты показывают, что если доля примеси гелия составляет менее 15\\%, отклонение от линейной зависимости не превышает 0,5\\%, что для наших целей вполне достаточно.\n",
    "      При заданной мощности нагревания приращение температуры  проволочки и, следовательно, приращение её сопротивления пропорциональны теплопроводности газа. Для измерения сопротивлений используется мостовая схема, позволяющая определять разность показаний датчиков с высокой точностью. Мост балансируется при заполнении сосудов (и датчиков) одной и той же смесью. При заполнении сосудов смесями различного состава возникает «разбаланc» моста. При незначительном различии в составах смесей показания гальванометра, подсоединённого к диагонали моста, будут пропорциональны разности концентраций примеси: $U\\propto\\Delta \\kappa \\propto \\Delta n$. В процессе диффузии разность концентраций убывает по закону $\\Delta n = \\Delta n_0 e^{-t / \\tau}$, и значит по тому же закону изменяются во времени показания гальванометра\n",
    "       $$ U = U_0 \\, e^{-t / \\tau}$$\n",
    "       где $U_0$ -- показание в начальный момент времени. Измеряя экспериментально зависимость $U(t)$, можно получить характерное время процесса $\\tau$\n",
    "\n",
    "\n",
    "\n",
    "\n",
    "\n",
    "\n",
    "\n",
    "     \n",
    "       \n",
    "\n",
    "   "
   ]
  },
  {
   "cell_type": "code",
   "execution_count": 1,
   "metadata": {},
   "outputs": [],
   "source": [
    "import numpy as np\n",
    "import pandas as pd\n",
    "import matplotlib.pyplot as plt\n",
    "from labs import *\n",
    "from statistics import stdev"
   ]
  },
  {
   "cell_type": "code",
   "execution_count": 2,
   "metadata": {},
   "outputs": [],
   "source": [
    "d1=pd.read_csv('data1.csv')\n",
    "m2=pd.read_csv('data2.csv')\n",
    "m3=pd.read_csv('data3.csv')\n",
    "m4=pd.read_csv('data4.csv')"
   ]
  },
  {
   "cell_type": "code",
   "execution_count": 3,
   "metadata": {},
   "outputs": [
    {
     "data": {
      "text/html": [
       "<div>\n",
       "<style scoped>\n",
       "    .dataframe tbody tr th:only-of-type {\n",
       "        vertical-align: middle;\n",
       "    }\n",
       "\n",
       "    .dataframe tbody tr th {\n",
       "        vertical-align: top;\n",
       "    }\n",
       "\n",
       "    .dataframe thead th {\n",
       "        text-align: right;\n",
       "    }\n",
       "</style>\n",
       "<table border=\"1\" class=\"dataframe\">\n",
       "  <thead>\n",
       "    <tr style=\"text-align: right;\">\n",
       "      <th></th>\n",
       "      <th>t (s)</th>\n",
       "      <th>V (mV)</th>\n",
       "    </tr>\n",
       "  </thead>\n",
       "  <tbody>\n",
       "    <tr>\n",
       "      <th>0</th>\n",
       "      <td>0.000</td>\n",
       "      <td>2.874745</td>\n",
       "    </tr>\n",
       "    <tr>\n",
       "      <th>1</th>\n",
       "      <td>1.051</td>\n",
       "      <td>2.869880</td>\n",
       "    </tr>\n",
       "    <tr>\n",
       "      <th>2</th>\n",
       "      <td>2.100</td>\n",
       "      <td>2.865994</td>\n",
       "    </tr>\n",
       "    <tr>\n",
       "      <th>3</th>\n",
       "      <td>3.150</td>\n",
       "      <td>2.860891</td>\n",
       "    </tr>\n",
       "    <tr>\n",
       "      <th>4</th>\n",
       "      <td>4.172</td>\n",
       "      <td>2.856332</td>\n",
       "    </tr>\n",
       "  </tbody>\n",
       "</table>\n",
       "</div>"
      ],
      "text/plain": [
       "   t (s)    V (mV)\n",
       "0  0.000  2.874745\n",
       "1  1.051  2.869880\n",
       "2  2.100  2.865994\n",
       "3  3.150  2.860891\n",
       "4  4.172  2.856332"
      ]
     },
     "execution_count": 3,
     "metadata": {},
     "output_type": "execute_result"
    }
   ],
   "source": [
    "m1=pd.read_csv('41.csv')\n",
    "m1[\"t (s)\"] \n",
    "m1[\"V (mV)\"]=(m1[\"V (mV)\"]).agg(np.log)\n",
    "m1.head()\n"
   ]
  },
  {
   "cell_type": "code",
   "execution_count": 4,
   "metadata": {},
   "outputs": [
    {
     "data": {
      "text/html": [
       "<div>\n",
       "<style scoped>\n",
       "    .dataframe tbody tr th:only-of-type {\n",
       "        vertical-align: middle;\n",
       "    }\n",
       "\n",
       "    .dataframe tbody tr th {\n",
       "        vertical-align: top;\n",
       "    }\n",
       "\n",
       "    .dataframe thead th {\n",
       "        text-align: right;\n",
       "    }\n",
       "</style>\n",
       "<table border=\"1\" class=\"dataframe\">\n",
       "  <thead>\n",
       "    <tr style=\"text-align: right;\">\n",
       "      <th></th>\n",
       "      <th>t (s)</th>\n",
       "      <th>V (mV)</th>\n",
       "    </tr>\n",
       "  </thead>\n",
       "  <tbody>\n",
       "    <tr>\n",
       "      <th>0</th>\n",
       "      <td>0.000</td>\n",
       "      <td>2.926168</td>\n",
       "    </tr>\n",
       "    <tr>\n",
       "      <th>1</th>\n",
       "      <td>1.048</td>\n",
       "      <td>2.925846</td>\n",
       "    </tr>\n",
       "    <tr>\n",
       "      <th>2</th>\n",
       "      <td>2.099</td>\n",
       "      <td>2.924961</td>\n",
       "    </tr>\n",
       "    <tr>\n",
       "      <th>3</th>\n",
       "      <td>3.148</td>\n",
       "      <td>2.924564</td>\n",
       "    </tr>\n",
       "    <tr>\n",
       "      <th>4</th>\n",
       "      <td>4.176</td>\n",
       "      <td>2.921434</td>\n",
       "    </tr>\n",
       "  </tbody>\n",
       "</table>\n",
       "</div>"
      ],
      "text/plain": [
       "   t (s)    V (mV)\n",
       "0  0.000  2.926168\n",
       "1  1.048  2.925846\n",
       "2  2.099  2.924961\n",
       "3  3.148  2.924564\n",
       "4  4.176  2.921434"
      ]
     },
     "execution_count": 4,
     "metadata": {},
     "output_type": "execute_result"
    }
   ],
   "source": [
    "m2=pd.read_csv('80.csv')\n",
    "m2[\"t (s)\"] \n",
    "m2[\"V (mV)\"]=m2[\"V (mV)\"].agg(np.log)\n",
    "m2.head()"
   ]
  },
  {
   "cell_type": "code",
   "execution_count": 5,
   "metadata": {},
   "outputs": [
    {
     "data": {
      "text/plain": [
       "0      2.987075\n",
       "1      2.986475\n",
       "2      2.985667\n",
       "3      2.984424\n",
       "4      2.983219\n",
       "         ...   \n",
       "390    2.388772\n",
       "391    2.387432\n",
       "392    2.385740\n",
       "393    2.385031\n",
       "394    2.383787\n",
       "Name: V (mV), Length: 395, dtype: float64"
      ]
     },
     "execution_count": 5,
     "metadata": {},
     "output_type": "execute_result"
    }
   ],
   "source": [
    "m4=pd.read_csv('160.csv')\n",
    "m4[\"t (s)\"] \n",
    "m4[\"V (mV)\"]=m4[\"V (mV)\"].agg(get_var).agg(np.log)\n",
    "m4[\"V (mV)\"]"
   ]
  },
  {
   "cell_type": "code",
   "execution_count": 6,
   "metadata": {},
   "outputs": [
    {
     "data": {
      "text/plain": [
       "0      2.944265\n",
       "1      2.943333\n",
       "2      2.942516\n",
       "3      2.940722\n",
       "4      2.939262\n",
       "         ...   \n",
       "431    2.408044\n",
       "432    2.406729\n",
       "433    2.405845\n",
       "434    2.404609\n",
       "435    2.404185\n",
       "Name: V (mV), Length: 436, dtype: float64"
      ]
     },
     "execution_count": 6,
     "metadata": {},
     "output_type": "execute_result"
    }
   ],
   "source": [
    "m3=pd.read_csv('200.csv')\n",
    "m3[\"t (s)\"] \n",
    "m3[\"V (mV)\"]=m3[\"V (mV)\"].agg(get_var).agg(np.log)\n",
    "m3[\"V (mV)\"]"
   ]
  },
  {
   "cell_type": "code",
   "execution_count": 7,
   "metadata": {},
   "outputs": [
    {
     "data": {
      "text/plain": [
       "<matplotlib.legend.Legend at 0x13c208ad0>"
      ]
     },
     "execution_count": 7,
     "metadata": {},
     "output_type": "execute_result"
    },
    {
     "data": {
      "image/png": "[encoded data removed]",
      "text/plain": [
       "<Figure size 1280x720 with 1 Axes>"
      ]
     },
     "metadata": {},
     "output_type": "display_data"
    }
   ],
   "source": [
    "k1, b1 = curve_fit(line, m1[\"t (s)\"], m1[\"V (mV)\"])\n",
    "k2, b2 = curve_fit(line, m2[\"t (s)\"], m2[\"V (mV)\"])\n",
    "k3, b3 = curve_fit(line, m3[\"t (s)\"], m3[\"V (mV)\"])\n",
    "k4, b4 = curve_fit(line, m4[\"t (s)\"], m4[\"V (mV)\"])\n",
    "plt.figure(figsize=(16, 9), dpi=80)\n",
    "plt.errorbar(x=m1[\"t (s)\"], xerr=m1[\"t (s)\"].agg(get_err), y=m1[\"V (mV)\"], yerr=m1[\"V (mV)\"].agg(get_err), fmt='.', label='Экспериментальные точки')\n",
    "plt.errorbar(x=m3[\"t (s)\"], xerr=m3[\"t (s)\"].agg(get_err), y=m3[\"V (mV)\"], yerr=m3[\"V (mV)\"].agg(get_err), fmt='.', label='Экспериментальные точки',  color=\"green\")\n",
    "plt.errorbar(x=m2[\"t (s)\"], xerr=m2[\"t (s)\"].agg(get_err), y=m2[\"V (mV)\"], yerr=m2[\"V (mV)\"].agg(get_err), fmt='.', label='Экспериментальные точки', color=\"red\")\n",
    "plt.errorbar(x=m4[\"t (s)\"], xerr=m4[\"t (s)\"].agg(get_err), y=m4[\"V (mV)\"], yerr=m4[\"V (mV)\"].agg(get_err), fmt='.', label='Экспериментальные точки', color=\"violet\")\n",
    "\n",
    "\n",
    "plt.title(r\"$lnU(t)$\", fontsize=25)\n",
    "plt.xlabel(r\"$ t, c $\", fontsize=20)\n",
    "plt.ylabel(r\"$lnU$\", fontsize=20)\n",
    "plt.grid(True)\n",
    "plt.legend() \n"
   ]
  },
  {
   "cell_type": "code",
   "execution_count": 8,
   "metadata": {},
   "outputs": [],
   "source": [
    "LS=Value(5.3,0.1)*100\n",
    "V=Value(775,10)*10**(-6)\n",
    "const=Value(2050,60)*10**(-4)"
   ]
  },
  {
   "attachments": {},
   "cell_type": "markdown",
   "metadata": {},
   "source": [
    "$$\\frac{V_1V_2}{V_1 + V_2} \\frac{L}{S} = (2050 \\pm 60)см^2\\$$"
   ]
  },
  {
   "attachments": {},
   "cell_type": "markdown",
   "metadata": {},
   "source": [
    "$$ln(U) = -\\frac{t}{\\tau} + C$$"
   ]
  },
  {
   "cell_type": "code",
   "execution_count": 9,
   "metadata": {},
   "outputs": [
    {
     "data": {
      "text/plain": [
       "[(0.00097±0.00003), (0.00059±0.00002), (0.00025±0.00001), (0.00031±0.00001)]"
      ]
     },
     "execution_count": 9,
     "metadata": {},
     "output_type": "execute_result"
    }
   ],
   "source": [
    "D=[]\n",
    "for i in range(1,5):\n",
    "    D.append(-const*eval(f\"k{i}\"))\n",
    "D"
   ]
  },
  {
   "cell_type": "code",
   "execution_count": 10,
   "metadata": {},
   "outputs": [],
   "source": [
    "P=pd.Series([41,80,200,160])\n",
    "p = pd.Series([41,80,200,160]).agg(const_err(1))\n"
   ]
  },
  {
   "cell_type": "code",
   "execution_count": 11,
   "metadata": {},
   "outputs": [
    {
     "data": {
      "text/plain": [
       "[(0.00097±0.00003), (0.00059±0.00002), (0.00025±0.00001), (0.00031±0.00001)]"
      ]
     },
     "execution_count": 11,
     "metadata": {},
     "output_type": "execute_result"
    }
   ],
   "source": [
    "m = 1 / p\n",
    "D"
   ]
  },
  {
   "cell_type": "code",
   "execution_count": 12,
   "metadata": {},
   "outputs": [
    {
     "data": {
      "text/plain": [
       "0        (0.024±0.001)\n",
       "1      (0.0125±0.0002)\n",
       "2      (0.005±0.00003)\n",
       "3    (0.00625±0.00004)\n",
       "dtype: object"
      ]
     },
     "execution_count": 12,
     "metadata": {},
     "output_type": "execute_result"
    }
   ],
   "source": [
    "m"
   ]
  },
  {
   "cell_type": "code",
   "execution_count": 13,
   "metadata": {},
   "outputs": [
    {
     "name": "stdout",
     "output_type": "stream",
     "text": [
      "1.0\n"
     ]
    },
    {
     "name": "stderr",
     "output_type": "stream",
     "text": [
      "/Users/igor/Desktop/labs2/2.2.1/labs.py:230: RuntimeWarning: invalid value encountered in scalar divide\n",
      "  k = (mean_w(x * y) - mean_w(x) * mean_w(y)) / (mean_w(x ** 2) - mean_w(x) ** 2)\n"
     ]
    },
    {
     "data": {
      "text/plain": [
       "nan"
      ]
     },
     "execution_count": 13,
     "metadata": {},
     "output_type": "execute_result"
    },
    {
     "data": {
      "image/png": "[encoded data removed]",
      "text/plain": [
       "<Figure size 1280x720 with 1 Axes>"
      ]
     },
     "metadata": {},
     "output_type": "display_data"
    }
   ],
   "source": [
    "D = pd.Series(D)\n",
    "k, b = hi2(m, D)\n",
    "plt.figure(figsize=(16, 9), dpi=80)\n",
    "plt.errorbar(x=m.agg(get_var), xerr=m.agg(get_err), y=D.agg(var), yerr=D.agg(get_err), fmt='.', label='Экспериментальные точки')\n",
    "plt.plot(m.agg(get_var), line(m.agg(get_var), k, b), label=\"Истиная зависимость\", color=\"red\")\n",
    "plt.title(r\"$D(1/p)$\", fontsize=25)\n",
    "plt.xlabel(r\"$ 1/P, 1/торр$\", fontsize=20)\n",
    "plt.ylabel(r\"$В$\", fontsize=20)\n",
    "plt.grid(True)\n",
    "plt.legend() \n",
    "k"
   ]
  },
  {
   "attachments": {},
   "cell_type": "markdown",
   "metadata": {},
   "source": [
    "$$D = (370 \\pm 20)\\frac{см^2}{с} \\frac{1торр}{P}\\$$"
   ]
  },
  {
   "attachments": {},
   "cell_type": "markdown",
   "metadata": {},
   "source": [
    "При атмосферном давлении $P_0=760 торр$ наше соотношение выдает\n",
    "    $$ D_0 = (0.49 \\pm 0.05)\\frac{см^2}{с}\\ $$"
   ]
  },
  {
   "attachments": {},
   "cell_type": "markdown",
   "metadata": {},
   "source": [
    "табличные данные указывают на значение\n",
    "    $$D_{табл} = 0.62\\frac{см^2}{с}$$"
   ]
  }
 ],
 "metadata": {
  "kernelspec": {
   "display_name": "Python 3",
   "language": "python",
   "name": "python3"
  },
  "language_info": {
   "codemirror_mode": {
    "name": "ipython",
    "version": 3
   },
   "file_extension": ".py",
   "mimetype": "text/x-python",
   "name": "python",
   "nbconvert_exporter": "python",
   "pygments_lexer": "ipython3",
   "version": "3.11.2"
  },
  "orig_nbformat": 4
 },
 "nbformat": 4,
 "nbformat_minor": 2
}
