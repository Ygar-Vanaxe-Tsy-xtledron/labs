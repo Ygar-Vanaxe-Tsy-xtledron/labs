{
 "cells": [
  {
   "cell_type": "code",
   "execution_count": 6,
   "id": "60e6ddbb",
   "metadata": {},
   "outputs": [],
   "source": [
    "import numpy as np\n",
    "import pandas as pd\n",
    "import matplotlib.pyplot as plt\n",
    "from scipy.optimize import curve_fit"
   ]
  },
  {
   "cell_type": "code",
   "execution_count": 7,
   "id": "f0e0bd93",
   "metadata": {},
   "outputs": [
    {
     "data": {
      "text/html": [
       "<div>\n",
       "<style scoped>\n",
       "    .dataframe tbody tr th:only-of-type {\n",
       "        vertical-align: middle;\n",
       "    }\n",
       "\n",
       "    .dataframe tbody tr th {\n",
       "        vertical-align: top;\n",
       "    }\n",
       "\n",
       "    .dataframe thead th {\n",
       "        text-align: right;\n",
       "    }\n",
       "</style>\n",
       "<table border=\"1\" class=\"dataframe\">\n",
       "  <thead>\n",
       "    <tr style=\"text-align: right;\">\n",
       "      <th></th>\n",
       "      <th>V</th>\n",
       "      <th>T</th>\n",
       "      <th>P</th>\n",
       "      <th>y</th>\n",
       "    </tr>\n",
       "  </thead>\n",
       "  <tbody>\n",
       "    <tr>\n",
       "      <th>0</th>\n",
       "      <td>1.5</td>\n",
       "      <td>37.52</td>\n",
       "      <td>28</td>\n",
       "      <td>0.039979</td>\n",
       "    </tr>\n",
       "    <tr>\n",
       "      <th>1</th>\n",
       "      <td>2.5</td>\n",
       "      <td>39.39</td>\n",
       "      <td>45</td>\n",
       "      <td>0.063468</td>\n",
       "    </tr>\n",
       "    <tr>\n",
       "      <th>2</th>\n",
       "      <td>1.5</td>\n",
       "      <td>18.42</td>\n",
       "      <td>57</td>\n",
       "      <td>0.081433</td>\n",
       "    </tr>\n",
       "    <tr>\n",
       "      <th>3</th>\n",
       "      <td>2.0</td>\n",
       "      <td>23.07</td>\n",
       "      <td>62</td>\n",
       "      <td>0.086693</td>\n",
       "    </tr>\n",
       "    <tr>\n",
       "      <th>4</th>\n",
       "      <td>2.0</td>\n",
       "      <td>20.66</td>\n",
       "      <td>73</td>\n",
       "      <td>0.096805</td>\n",
       "    </tr>\n",
       "    <tr>\n",
       "      <th>7</th>\n",
       "      <td>2.5</td>\n",
       "      <td>24.15</td>\n",
       "      <td>85</td>\n",
       "      <td>0.103520</td>\n",
       "    </tr>\n",
       "    <tr>\n",
       "      <th>8</th>\n",
       "      <td>5.0</td>\n",
       "      <td>45.86</td>\n",
       "      <td>105</td>\n",
       "      <td>0.109027</td>\n",
       "    </tr>\n",
       "    <tr>\n",
       "      <th>10</th>\n",
       "      <td>3.0</td>\n",
       "      <td>28.47</td>\n",
       "      <td>95</td>\n",
       "      <td>0.105374</td>\n",
       "    </tr>\n",
       "    <tr>\n",
       "      <th>11</th>\n",
       "      <td>2.0</td>\n",
       "      <td>40.22</td>\n",
       "      <td>34</td>\n",
       "      <td>0.049727</td>\n",
       "    </tr>\n",
       "    <tr>\n",
       "      <th>13</th>\n",
       "      <td>2.5</td>\n",
       "      <td>21.91</td>\n",
       "      <td>115</td>\n",
       "      <td>0.114103</td>\n",
       "    </tr>\n",
       "    <tr>\n",
       "      <th>14</th>\n",
       "      <td>5.0</td>\n",
       "      <td>42.29</td>\n",
       "      <td>126</td>\n",
       "      <td>0.118231</td>\n",
       "    </tr>\n",
       "    <tr>\n",
       "      <th>15</th>\n",
       "      <td>4.0</td>\n",
       "      <td>32.53</td>\n",
       "      <td>139</td>\n",
       "      <td>0.122963</td>\n",
       "    </tr>\n",
       "    <tr>\n",
       "      <th>16</th>\n",
       "      <td>4.0</td>\n",
       "      <td>30.13</td>\n",
       "      <td>161</td>\n",
       "      <td>0.132758</td>\n",
       "    </tr>\n",
       "    <tr>\n",
       "      <th>17</th>\n",
       "      <td>5.0</td>\n",
       "      <td>35.21</td>\n",
       "      <td>182</td>\n",
       "      <td>0.142005</td>\n",
       "    </tr>\n",
       "  </tbody>\n",
       "</table>\n",
       "</div>"
      ],
      "text/plain": [
       "      V      T    P         y\n",
       "0   1.5  37.52   28  0.039979\n",
       "1   2.5  39.39   45  0.063468\n",
       "2   1.5  18.42   57  0.081433\n",
       "3   2.0  23.07   62  0.086693\n",
       "4   2.0  20.66   73  0.096805\n",
       "7   2.5  24.15   85  0.103520\n",
       "8   5.0  45.86  105  0.109027\n",
       "10  3.0  28.47   95  0.105374\n",
       "11  2.0  40.22   34  0.049727\n",
       "13  2.5  21.91  115  0.114103\n",
       "14  5.0  42.29  126  0.118231\n",
       "15  4.0  32.53  139  0.122963\n",
       "16  4.0  30.13  161  0.132758\n",
       "17  5.0  35.21  182  0.142005"
      ]
     },
     "execution_count": 7,
     "metadata": {},
     "output_type": "execute_result"
    }
   ],
   "source": [
    "m = pd.read_csv(\"data1.csv\")\n",
    "m = m.drop(labels = [5, 6, 9, 12],axis = 0)\n",
    "m[\"y\"] = m[\"V\"] / m[\"T\"]\n",
    "m"
   ]
  },
  {
   "cell_type": "code",
   "execution_count": 8,
   "id": "60fa69c2",
   "metadata": {},
   "outputs": [
    {
     "data": {
      "text/plain": [
       "<matplotlib.legend.Legend at 0x13fe79590>"
      ]
     },
     "execution_count": 8,
     "metadata": {},
     "output_type": "execute_result"
    },
    {
     "data": {
      "image/png": "[encoded data removed]",
      "text/plain": [
       "<Figure size 1280x720 with 1 Axes>"
      ]
     },
     "metadata": {},
     "output_type": "display_data"
    }
   ],
   "source": [
    "plt.figure(figsize=(16, 9), dpi=80)\n",
    "plt.errorbar(x=m[\"P\"], y=m[\"y\"], fmt='.', label='Экспериментальные точки')\n",
    "plt.title(r\"%Q(P)$\", fontsize=25)\n",
    "plt.xlabel(r\"$P, Па$\", fontsize=20)\n",
    "plt.ylabel(r\"$Q, Дж$\", fontsize=20)\n",
    "plt.grid(True)\n",
    "plt.legend()\n",
    "#plt.plot(m[\"l\"], line(m[\"l\"], params[0], params[1]), label=\"Истиная зависимость\")"
   ]
  },
  {
   "cell_type": "code",
   "execution_count": 9,
   "id": "f84fc75f",
   "metadata": {},
   "outputs": [
    {
     "ename": "NameError",
     "evalue": "name 'params' is not defined",
     "output_type": "error",
     "traceback": [
      "\u001b[0;31m---------------------------------------------------------------------------\u001b[0m",
      "\u001b[0;31mNameError\u001b[0m                                 Traceback (most recent call last)",
      "Cell \u001b[0;32mIn[9], line 1\u001b[0m\n\u001b[0;32m----> 1\u001b[0m \u001b[39mprint\u001b[39m(\u001b[39mf\u001b[39m\u001b[39m\"\u001b[39m\u001b[39ma = \u001b[39m\u001b[39m{\u001b[39;00mparams[\u001b[39m0\u001b[39m]\u001b[39m:\u001b[39;00m\u001b[39m.3\u001b[39m\u001b[39m}\u001b[39;00m\u001b[39m \u001b[39m\u001b[39m\\u00B1\u001b[39;00m\u001b[39m \u001b[39m\u001b[39m{\u001b[39;00mnp\u001b[39m.\u001b[39msqrt(cov[\u001b[39m0\u001b[39m][\u001b[39m0\u001b[39m])\u001b[39m:\u001b[39;00m\u001b[39m.2\u001b[39m\u001b[39m}\u001b[39;00m\u001b[39m\"\u001b[39m)\n\u001b[1;32m      2\u001b[0m \u001b[39mprint\u001b[39m(\u001b[39mf\u001b[39m\u001b[39m\"\u001b[39m\u001b[39mb = \u001b[39m\u001b[39m{\u001b[39;00mparams[\u001b[39m1\u001b[39m]\u001b[39m:\u001b[39;00m\u001b[39m.3\u001b[39m\u001b[39m}\u001b[39;00m\u001b[39m \u001b[39m\u001b[39m\\u00B1\u001b[39;00m\u001b[39m \u001b[39m\u001b[39m{\u001b[39;00mnp\u001b[39m.\u001b[39msqrt(cov[\u001b[39m1\u001b[39m][\u001b[39m1\u001b[39m])\u001b[39m:\u001b[39;00m\u001b[39m.2\u001b[39m\u001b[39m}\u001b[39;00m\u001b[39m\"\u001b[39m)\n\u001b[1;32m      4\u001b[0m a \u001b[39m=\u001b[39m params[\u001b[39m0\u001b[39m]\n",
      "\u001b[0;31mNameError\u001b[0m: name 'params' is not defined"
     ]
    }
   ],
   "source": [
    "print(f\"a = {params[0]:.3} \\u00B1 {np.sqrt(cov[0][0]):.2}\")\n",
    "print(f\"b = {params[1]:.3} \\u00B1 {np.sqrt(cov[1][1]):.2}\")\n",
    "\n",
    "a = params[0]"
   ]
  },
  {
   "cell_type": "code",
   "execution_count": null,
   "id": "9cb38a32",
   "metadata": {},
   "outputs": [
    {
     "data": {
      "text/plain": [
       "52380.95238691226"
      ]
     },
     "execution_count": 33,
     "metadata": {},
     "output_type": "execute_result"
    }
   ],
   "source": [
    "a * 0.11 / (0.00175 * 0.012)"
   ]
  }
 ],
 "metadata": {
  "kernelspec": {
   "display_name": "Python 3.10.5 64-bit",
   "language": "python",
   "name": "python3"
  },
  "language_info": {
   "codemirror_mode": {
    "name": "ipython",
    "version": 3
   },
   "file_extension": ".py",
   "mimetype": "text/x-python",
   "name": "python",
   "nbconvert_exporter": "python",
   "pygments_lexer": "ipython3",
   "version": "3.11.2"
  },
  "vscode": {
   "interpreter": {
    "hash": "aee8b7b246df8f9039afb4144a1f6fd8d2ca17a180786b69acc140d282b71a49"
   }
  }
 },
 "nbformat": 4,
 "nbformat_minor": 5
}
