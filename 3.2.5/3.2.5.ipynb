{
 "cells": [
  {
   "cell_type": "markdown",
   "metadata": {},
   "source": [
    "### Лабораторная работа 3.2.5\n",
    "#### Свободные и вынужденные колебания в электрическом контуре \n",
    "  Выполнили Боярина Екатерина, Воробьев Игорь\n",
    "\n"
   ]
  },
  {
   "cell_type": "markdown",
   "metadata": {},
   "source": [
    "#### Аннотация\n",
    "\n",
    "Цели работы:\n",
    "\n",
    "1)Изучение свободных колебаний в RLC контуре:\n",
    "- Сравнить зависимость периода колебаний цепи от ёмкости с теоретической.\n",
    "- Определение зависимости логарифмического декремента затухания от сопротивления цепи.\n",
    "- Определение критического сопротивления контура.\n",
    "\n",
    "2)Изучение вынужденных колебаний в RLC контуре:\n",
    "- Построение резонансных кривых колебательного контура: АЧХ и ФЧХ.\n",
    "- Определение декремента затухания колебательного контура по нарастанию колебаний и по их затуханию.\n",
    "- Проанализировать картину биений.\n",
    "- Определение добротности контура различными способами.\n"
   ]
  },
  {
   "cell_type": "markdown",
   "metadata": {},
   "source": [
    "\\section{Теоретическая часть}\n",
    "\\begin{wrapfigure}[14]{r}{0.4\\linewidth}\n",
    "\\includegraphics[width=\\linewidth]{shem.png}\n",
    "\\caption{Описываемый RLC контур}\n",
    "\\end{wrapfigure}\n",
    "\\noindent Для RLC контура (рис. 1) применим 2 правило Кирхгофа:\n",
    "\\begin{equation}\n",
    "RI + U_C + L\\frac{dI}{dt} = 0.\n",
    "\\end{equation}\n",
    "Подставив в уравнение (1) выражение для тока через 1-ое правило Кирхгофа, и разделив обе части уравнения на $CL$, получим:\n",
    "\\begin{equation}\n",
    "\\frac{d^2U_C}{dt^2} + \\frac{R}{L} \\frac{dU_C}{dt} + \\frac{U_C}{CL}.\n",
    "\\end{equation}\n",
    "Произведём замены $\\gamma = \\frac{R}{2L}$ — коэффициент затухания, $\\omega_0^2 = \\frac{1}{LC}$ — собственная круговая частота, $T_0 = \\frac{2\\pi}{\\omega_0} = 2\\pi \\sqrt{LC}$ — период собственных колебаний. Тогда уравнение (2) примет вид:\n",
    "\\begin{equation}\n",
    "\\ddot{U_C} + 2 \\gamma \\dot{U_C} + \\omega_0^2U_C = 0,\n",
    "\\end{equation}\n",
    "где точкой обозначено дифференцирование по времени. Будем искать решение данного дифференциального уравнения в классе функций следующего вида:\n",
    "$$U_C(t) = U(t)e^{- \\gamma t}.$$\n",
    "Получим:\n",
    "\\begin{equation}\n",
    "\\ddot{U} + \\omega_1^2 U = 0,\n",
    "\\end{equation}\n",
    "где\n",
    "\\begin{equation}\n",
    "\\omega_1^2 = \\omega_0^2-\\gamma^2\n",
    "\\end{equation}\n",
    "Для случая $\\gamma < \\omega_0$ в силу того, что $\\omega_1 > 0$, получим:\n",
    "\\begin{equation}\n",
    "U_C(t) = U_0 \\cdot e^{-\\gamma t} \\text{cos}(\\omega_1 t + \\varphi_0).\n",
    "\\end{equation}\n",
    "Для получения фазовой траектории представим формулу (6) в другом виде:\n",
    "\\begin{equation}\n",
    "U_C(t) = e^{-\\gamma t}(a \\text{cos} \\omega_1 t + b \\text{sin} \\omega_1 t),\n",
    "\\end{equation}\n",
    "где $a$ и $b$ получаются по формулам:\n",
    "$$a = U_0 \\text{cos} \\varphi_0, \\qquad b = - U_0 \\text{sin} \\varphi_0.$$\n",
    "В более удобном виде запишем выражения для напряжения на конденсаторе и токе через катушку:\n",
    "\\begin{equation}\n",
    "U_C (t) = U_{C0} \\cdot e^{-\\gamma t} (\\text{cos} \\omega_1 t + \\frac{\\gamma}{\\omega_1} \\text{sin} \\omega_1 t),\n",
    "\\end{equation}\n",
    "\\begin{equation}\n",
    "I(t) = C\\dot{U_C}= - \\frac{U_{C0}}{\\rho} \\frac{\\omega_0}{\\omega_1} e^{-\\gamma t} \\text{sin} \\omega_1 t.\n",
    "\\end{equation}\n",
    "Введём некоторые характеристики колебательного движения:\n",
    "\\begin{equation}\n",
    "\\tau = \\frac{1}{\\gamma} = \\frac{2L}{R},\n",
    "\\end{equation}\n",
    "где $\\tau$ — время затухания (время, за которое амплитуда колебаний уменьшается в $e$ раз).\n",
    "\\begin{equation}\n",
    "\\Theta = \\text{ln} \\frac{U_k}{U_{k+1}} = \\gamma T_1 = \\frac{1}{N_\\tau} = \\frac{1}{n} \\text{ln} \\frac{U_k}{U_{k+n}},\n",
    "\\end{equation}\n",
    "где $\\Theta$ — логарифмический декремент затухания, $U_k$ и $U_{k+1}$ — два последовательных максимальных отклонения величины в одну сторону, $N_\\tau$ — число полных колебаний за время затухания $\\tau$.\n",
    "\n",
    "Теперь рассмотрим случай \\textit{вынужденных колебаний} под действием внешней внешнего синусоидального источника. Для этого воспользуемся методом \\textit{комплексных амплитуд} для схемы на рисунке (рис. 1):\n",
    "\\begin{equation}\n",
    "\\ddot{I} + 2 \\gamma \\dot{I} + \\omega^2 I = - \\varepsilon \\frac{\\Omega}{L} e^{i\\Omega t}.\n",
    "\\end{equation}\n",
    "Решая данное дифференциальное уравнение получим решение:\n",
    "\\begin{equation}\n",
    "I = B\\cdot e^{-\\gamma t} \\text{sin}(\\omega t - \\Theta) + \\frac{\\varepsilon_0 \\Omega}{L \\phi_0} \\text{sin} (\\Omega t - \\varphi).\n",
    "\\end{equation}\n",
    "Нетрудно видеть, что частота резонанса будет определяться формулой:\n",
    "\\begin{equation}\n",
    "\\omega_0 = \\frac{1}{2 \\pi \\sqrt{LC}}.\n",
    "\\end{equation}\n",
    "\n",
    "Способы измерения \\textbf{добротности}:\n",
    "\\begin{enumerate}\n",
    "\\item с помощью потери амплитуды свободных колебаний:\n",
    "\\begin{equation}\n",
    "Q = \\frac{1}{n} \\text{ln}\\frac{U_k}{U_{k+n}},\n",
    "\\end{equation}\n",
    "\\item с помощью амплитуды резонанса можно получить добротность (в координатах $U_C/U_0$, где $U_0$ — амплитуда колебаний напряжения источника, от частоты генератора). Отсюда нетрудно определить декремент затухания $\\gamma = \\frac{\\omega_0}{2Q}$,\n",
    "\\item с помощью среза АЧХ на уровне 0.7 от максимальной амплитуды, тогда «дисперсия» ($\\Delta \\Omega$) будет численно равна коэффициенту $\\gamma$, то есть $Q = \\frac{\\nu_0}{2 \\Delta \\Omega}$.\n",
    "\\item с помощью нарастания амплитуд в вынужденных колебаниях:\n",
    "\\begin{equation}\n",
    "Q = \\frac{\\omega_0 n}{2\\text{ln} \\frac{U_0 - U_k}{U_0 - U_{k+n}}}.\n",
    "\\end{equation}\n",
    "\\end{enumerate}"
   ]
  },
  {
   "cell_type": "code",
   "execution_count": 37,
   "metadata": {},
   "outputs": [
    {
     "data": {
      "text/html": [
       "<div>\n",
       "<style scoped>\n",
       "    .dataframe tbody tr th:only-of-type {\n",
       "        vertical-align: middle;\n",
       "    }\n",
       "\n",
       "    .dataframe tbody tr th {\n",
       "        vertical-align: top;\n",
       "    }\n",
       "\n",
       "    .dataframe thead th {\n",
       "        text-align: right;\n",
       "    }\n",
       "</style>\n",
       "<table border=\"1\" class=\"dataframe\">\n",
       "  <thead>\n",
       "    <tr style=\"text-align: right;\">\n",
       "      <th></th>\n",
       "      <th>C</th>\n",
       "      <th>T</th>\n",
       "      <th>theory</th>\n",
       "      <th>sigmaT</th>\n",
       "    </tr>\n",
       "  </thead>\n",
       "  <tbody>\n",
       "    <tr>\n",
       "      <th>0</th>\n",
       "      <td>1.110000e-09</td>\n",
       "      <td>0.0662</td>\n",
       "      <td>0.066197</td>\n",
       "      <td>0.000132</td>\n",
       "    </tr>\n",
       "    <tr>\n",
       "      <th>1</th>\n",
       "      <td>2.110000e-09</td>\n",
       "      <td>0.0924</td>\n",
       "      <td>0.091269</td>\n",
       "      <td>0.000185</td>\n",
       "    </tr>\n",
       "    <tr>\n",
       "      <th>2</th>\n",
       "      <td>3.110000e-09</td>\n",
       "      <td>0.1100</td>\n",
       "      <td>0.110805</td>\n",
       "      <td>0.000220</td>\n",
       "    </tr>\n",
       "    <tr>\n",
       "      <th>3</th>\n",
       "      <td>4.110000e-09</td>\n",
       "      <td>0.1300</td>\n",
       "      <td>0.127380</td>\n",
       "      <td>0.000260</td>\n",
       "    </tr>\n",
       "    <tr>\n",
       "      <th>4</th>\n",
       "      <td>5.110000e-09</td>\n",
       "      <td>0.1420</td>\n",
       "      <td>0.142033</td>\n",
       "      <td>0.000284</td>\n",
       "    </tr>\n",
       "    <tr>\n",
       "      <th>5</th>\n",
       "      <td>6.110000e-09</td>\n",
       "      <td>0.1520</td>\n",
       "      <td>0.155310</td>\n",
       "      <td>0.000304</td>\n",
       "    </tr>\n",
       "    <tr>\n",
       "      <th>6</th>\n",
       "      <td>7.110000e-09</td>\n",
       "      <td>0.1650</td>\n",
       "      <td>0.167539</td>\n",
       "      <td>0.000330</td>\n",
       "    </tr>\n",
       "    <tr>\n",
       "      <th>7</th>\n",
       "      <td>8.110000e-09</td>\n",
       "      <td>0.1780</td>\n",
       "      <td>0.178933</td>\n",
       "      <td>0.000356</td>\n",
       "    </tr>\n",
       "    <tr>\n",
       "      <th>8</th>\n",
       "      <td>9.110000e-09</td>\n",
       "      <td>0.1890</td>\n",
       "      <td>0.189644</td>\n",
       "      <td>0.000378</td>\n",
       "    </tr>\n",
       "    <tr>\n",
       "      <th>9</th>\n",
       "      <td>1.011000e-08</td>\n",
       "      <td>0.1990</td>\n",
       "      <td>0.199782</td>\n",
       "      <td>0.000398</td>\n",
       "    </tr>\n",
       "  </tbody>\n",
       "</table>\n",
       "</div>"
      ],
      "text/plain": [
       "              C       T    theory    sigmaT\n",
       "0  1.110000e-09  0.0662  0.066197  0.000132\n",
       "1  2.110000e-09  0.0924  0.091269  0.000185\n",
       "2  3.110000e-09  0.1100  0.110805  0.000220\n",
       "3  4.110000e-09  0.1300  0.127380  0.000260\n",
       "4  5.110000e-09  0.1420  0.142033  0.000284\n",
       "5  6.110000e-09  0.1520  0.155310  0.000304\n",
       "6  7.110000e-09  0.1650  0.167539  0.000330\n",
       "7  8.110000e-09  0.1780  0.178933  0.000356\n",
       "8  9.110000e-09  0.1890  0.189644  0.000378\n",
       "9  1.011000e-08  0.1990  0.199782  0.000398"
      ]
     },
     "execution_count": 37,
     "metadata": {},
     "output_type": "execute_result"
    }
   ],
   "source": [
    "T = pd.read_csv('T(C).csv')\n",
    "T['C'] = T['C'] * 10**(-6)\n",
    "T['C'] = T['C'] + C0\n",
    "T['theory'] = 2*math.pi*(L*T['C'])**(1/2)\n",
    "T['theory'] = T['theory'] * 1000\n",
    "T['sigmaT'] = T['T'] * eps\n",
    "T"
   ]
  },
  {
   "cell_type": "code",
   "execution_count": 38,
   "metadata": {},
   "outputs": [
    {
     "name": "stdout",
     "output_type": "stream",
     "text": [
      "Зависимость периода в эксперименте от теоретического периода\n",
      "Угловой коэффициент - 0.984, погрешность - 1.24 %\n"
     ]
    }
   ],
   "source": [
    "def line(x, a, b):\n",
    "    return a * x + b\n",
    "\n",
    "params, cov = curve_fit(line, xdata=T['theory'], ydata=T['T'])\n",
    "print('Зависимость периода в эксперименте от теоретического периода')\n",
    "print(f'Угловой коэффициент - {np.round(params[0], 3)}, погрешность - {np.round((cov[0][0]**(1/2) / params[0]) * 100, 2)} %')"
   ]
  },
  {
   "cell_type": "code",
   "execution_count": 39,
   "metadata": {},
   "outputs": [
    {
     "data": {
      "image/png": "[encoded data removed]",
      "text/plain": [
       "<Figure size 1600x900 with 1 Axes>"
      ]
     },
     "metadata": {},
     "output_type": "display_data"
    }
   ],
   "source": [
    "x1 = list(T['theory'])\n",
    "y1 = list(T['T'])\n",
    "yerr = list(T['sigmaT'])\n",
    "x = [T['theory'][0], T['theory'][len(T) - 1]]\n",
    "y = [params[0] * x[i] + params[1] for i in range (len(x))]\n",
    "fig, ax = plt.subplots(figsize = (16,9))\n",
    "plt.title('Зависимость $T_{exp}$ = f ($T_{theor}$)')\n",
    "plt.xlabel('$T_{theor}$, c')\n",
    "plt.ylabel('$T_{exp}$, c')\n",
    "plt.errorbar(x1, y1, c='black', yerr = yerr, fmt = 'None')\n",
    "plt.grid(which='both')\n",
    "plt.plot(x, y)\n",
    "\n",
    "plt.show()"
   ]
  },
  {
   "cell_type": "code",
   "execution_count": 40,
   "metadata": {},
   "outputs": [],
   "source": [
    "R0 = pd.read_csv('R0.csv')\n",
    "R1 = pd.read_csv('R1.csv')\n",
    "R2 = pd.read_csv('R2.csv')\n",
    "R3 = pd.read_csv('R3.csv')\n",
    "R4 = pd.read_csv('R4.csv')\n",
    "R5 = pd.read_csv('R5.csv')"
   ]
  },
  {
   "cell_type": "code",
   "execution_count": 41,
   "metadata": {},
   "outputs": [],
   "source": [
    "Rs = [R0, R1, R2, R3, R4, R5]\n",
    "for i in range (len(Rs)):\n",
    "    a = Rs[i]\n",
    "    a['teta'] = 0\n",
    "    for j in range (1, len(a)):\n",
    "        a.loc[j, 'teta'] = math.log(a['U'][j - 1]/a['U'][j])"
   ]
  },
  {
   "cell_type": "code",
   "execution_count": 42,
   "metadata": {},
   "outputs": [
    {
     "data": {
      "text/plain": [
       "([4.935620933632868, 11.168321898075593],\n",
       " [0.2812949592840012,\n",
       "  0.43772816672896553,\n",
       "  0.49647887091725307,\n",
       "  0.5436879303710402,\n",
       "  0.5972531564093516,\n",
       "  0.6365141682948129],\n",
       " [0.00120423824994544,\n",
       "  0.007597523627715388,\n",
       "  0.02559633797208331,\n",
       "  0.03590806954765912,\n",
       "  0.10071739969968832,\n",
       "  0.12197781531254726],\n",
       " [410, 800, 1040, 1280, 1520, 1760],\n",
       " [0.9458332409288464, 0.04781216290401839])"
      ]
     },
     "execution_count": 42,
     "metadata": {},
     "output_type": "execute_result"
    }
   ],
   "source": [
    "teta = []\n",
    "sigmateta = []\n",
    "for i in range (len(Rs)):\n",
    "    a = Rs[i]\n",
    "    mid = np.mean(a['teta'])\n",
    "    sum = 0\n",
    "    for j in range (1, len(a)):\n",
    "        sum += (a['teta'][j] - mid)**2\n",
    "    teta.append(mid)\n",
    "    sigmateta.append((sum/((len(a)-1) * (len(a) - 2))))\n",
    "Q = []\n",
    "eQ = [sigmateta[-1]/teta[-1], sigmateta[0]/teta[0]]\n",
    "Q.append(math.pi/max(teta))\n",
    "Q.append(math.pi/min(teta))\n",
    "sigmaQ = [Q[i]*eQ[i] for i in range (len(Q))]\n",
    "Q, teta, sigmateta, R, sigmaQ"
   ]
  },
  {
   "cell_type": "code",
   "execution_count": 43,
   "metadata": {},
   "outputs": [
    {
     "data": {
      "text/plain": [
       "([5.9488399762046405e-06,\n",
       "  1.5625e-06,\n",
       "  9.245562130177515e-07,\n",
       "  6.103515625e-07,\n",
       "  4.328254847645429e-07,\n",
       "  3.228305785123967e-07],\n",
       " [0.1082073007701034,\n",
       "  0.18117095564630162,\n",
       "  0.4183170054037429,\n",
       "  0.4468615395428079,\n",
       "  0.9454947887972748,\n",
       "  0.9459901641324093])"
      ]
     },
     "execution_count": 43,
     "metadata": {},
     "output_type": "execute_result"
    }
   ],
   "source": [
    "epsteta = []\n",
    "for i in range (len(teta)):\n",
    "    epsteta.append(sigmateta[i] / teta[i])\n",
    "\n",
    "for i in range (len(teta)):\n",
    "    teta[i] = 1/(teta[i])**2\n",
    "    sigmateta[i] = 2*epsteta[i]*teta[i]\n",
    "for i in range (len(R)):\n",
    "    R[i] = 1/(R[i])**2\n",
    "R, sigmateta"
   ]
  },
  {
   "cell_type": "code",
   "execution_count": 44,
   "metadata": {},
   "outputs": [
    {
     "name": "stdout",
     "output_type": "stream",
     "text": [
      "Зависимость логарифмического декремента от сопротивления\n",
      "Угловой коэффициент - 1766507.51, погрешность - 2.93 %\n"
     ]
    }
   ],
   "source": [
    "params, cov = curve_fit(line, xdata=R, ydata=teta)\n",
    "print('Зависимость логарифмического декремента от сопротивления')\n",
    "#print(cov[0][0]**(1/2))\n",
    "print(f'Угловой коэффициент - {np.round(params[0], 2)}, погрешность - {np.round((cov[0][0]**(1/2) / params[0]) * 100, 2)} %')"
   ]
  },
  {
   "cell_type": "code",
   "execution_count": 53,
   "metadata": {},
   "outputs": [
    {
     "name": "stdout",
     "output_type": "stream",
     "text": [
      "Критическое сопротивление равняется 8351.0 Ом, погрешность - 1.46 %\n",
      "Теоретическое значение критического сопротивления равняется 8168.370006135309\n",
      "Различие составляет 2.24 %\n"
     ]
    }
   ],
   "source": [
    "print(f'Критическое сопротивление равняется {np.round(2*math.pi*(params[0])**(1/2), 0)} Ом, погрешность - {np.round(0.5 * (cov[0][0]**(1/2) / params[0]) * 100 , 2)} %')\n",
    "print(f'Теоретическое значение критического сопротивления равняется {2*(L/(Cst - C0))**(1/2)}')\n",
    "print(f'Различие составляет {np.round((2*math.pi*(params[0])**(1/2) /(2*(L/(Cst - C0))**(1/2)) - 1) * 100, 2) } %')"
   ]
  },
  {
   "cell_type": "code",
   "execution_count": 46,
   "metadata": {},
   "outputs": [
    {
     "data": {
      "image/png": "[encoded data removed]",
      "text/plain": [
       "<Figure size 1600x900 with 1 Axes>"
      ]
     },
     "metadata": {},
     "output_type": "display_data"
    }
   ],
   "source": [
    "x = [R[0], R[-1]]\n",
    "y = [x[i] * params[0] + params[1] for i in range (len(x))]\n",
    "fig, ax = plt.subplots(figsize = (16,9))\n",
    "plt.title('Зависимость θ(R)')\n",
    "plt.xlabel('$1/R^2$, 1/$ Ом^2 $')\n",
    "plt.ylabel('θ')\n",
    "plt.errorbar(R, teta, c='black', yerr = sigmateta, fmt = 'None')\n",
    "plt.grid(which='both')\n",
    "plt.plot(x, y)\n",
    "\n",
    "plt.show()"
   ]
  },
  {
   "cell_type": "code",
   "execution_count": 47,
   "metadata": {},
   "source": [
    "print(f'Добротность при максимальном декременте затухания - {np.round(Q[0], 1)} ± {np.round(sigmaQ[0], 0)}, при минимальном - {np.round(Q[1], 2)} ± {np.round(sigmaQ[1], 2)}')"
   ]
  },
  {
   "cell_type": "code",
   "execution_count": 48,
   "metadata": {},
   "source": [
    "print(f'Теоретическая добротность при сопротивлении {RQ[-1]} Ом - {np.round(1/RQ[-1] * (L/Cst)**(1/2), 1)}')\n",
    "print(f'Теоретическая добротность при сопротивлении {RQ[0]} Ом - {np.round(1/RQ[0] * (L/Cst)**(1/2), 1)}')"
   ]
  },
  {
   "cell_type": "code",
   "execution_count": 49,
   "metadata": {},
   "outputs": [
    {
     "name": "stdout",
     "output_type": "stream",
     "text": [
      "Добротности по фазовой плоскости\n",
      "Добротность контура при сопротивлении 2045 Ом - 1.7, теоретическое значение - 1.8\n",
      "Добротность контура при сопротивлении 410 Ом - 7.2 ± 0.6\n"
     ]
    }
   ],
   "source": [
    "spiral1 = [3, 5, 7, 11, 17]\n",
    "spiral2 = [2, 13]\n",
    "tetaspiral2 = math.log(spiral2[1]/spiral2[0])\n",
    "mid = []\n",
    "meanspiral1 = np.mean(spiral1)\n",
    "sum = 0\n",
    "for i in range (1, len(spiral1)):\n",
    "    mid.append(math.log(spiral1[i] / spiral1[i - 1]))\n",
    "for i in range (len(mid)):\n",
    "    sum += (np.mean(mid) - mid[i])**2\n",
    "sigma = math.sqrt(sum/(4*3))\n",
    "eps = sigma/np.mean(mid)\n",
    "a = math.pi / np.mean(mid) \n",
    "print('Добротности по фазовой плоскости')\n",
    "print(f'Добротность контура при сопротивлении 2045 Ом - {np.round(math.pi / tetaspiral2, 1)}, теоретическое значение - {np.round(1/2045 * (L/Cst)**(1/2), 1)}')\n",
    "print(f'Добротность контура при сопротивлении 410 Ом - {np.round(a, 1)} ± {np.round(eps * a, 1)}')"
   ]
  },
  {
   "cell_type": "code",
   "execution_count": 50,
   "metadata": {},
   "outputs": [],
   "source": [
    "eps = 0.002\n",
    "nu = pd.read_csv('nu.csv', sep = ';')\n",
    "nu['U'] = nu['U']\n",
    "nu['dx'] = nu['dx'] * 10**(-6)\n",
    "nu['dphi'] = 2*math.pi*nu['nu'] * nu['dx']\n",
    "nu['sigmanu'] = nu['nu'] * eps\n",
    "x = [nu['nu'][i] / nu0 for i in range (len(nu))]\n",
    "y = [nu['U'][i] / U0 for i in range (len(nu))]\n",
    "xerr = [x[i] * (2)**(1/2) * eps for i in range (len(x))]\n",
    "yerr = [y[i] * (2)**(1/2) * eps for i in range (len(y))]"
   ]
  },
  {
   "cell_type": "code",
   "execution_count": 51,
   "metadata": {},
   "source": [
    "fig, ax = plt.subplots(figsize = (16, 9))\n",
    "plt.title('U/$ U_0 $ = f($ \\\\nu $/ $ \\\\nu_0 $)')\n",
    "plt.xlabel('$ \\\\nu $/ $ \\\\nu_0 $')\n",
    "plt.ylabel('U/$ U_0 $')\n",
    "plt.errorbar(x, y, xerr = xerr, yerr = yerr, c = 'black', fmt = 'None')\n",
    "plt.plot(x, y)\n",
    "plt.axhline(y = y[10] / (2)**(1/2), xmin = 0.25, xmax = 0.95)\n",
    "plt.grid()\n",
    "plt.show()"
   ]
  },
  {
   "cell_type": "code",
   "execution_count": 52,
   "metadata": {},
   "source": [
    "nu['omega'] = 2*math.pi*nu['nu']\n",
    "nu['sigmaomega'] = nu['omega'] * eps\n",
    "nu['dphi'] = -nu['dphi']\n",
    "reversex = []\n",
    "reversey = []\n",
    "for i in range (len(nu)):\n",
    "    if nu['dphi'][i] <= -math.pi/2:\n",
    "        delta = - nu['dphi'][i] - math.pi/2\n",
    "        reversex.append(nu['omega'][i])\n",
    "        reversey.append(2*delta + nu['dphi'][i])\n",
    "fig, ax = plt.subplots(figsize = (12,6))\n",
    "plt.grid()\n",
    "plt.title('$\\Delta$$\\phi$($\\omega$)')\n",
    "plt.xlabel('$\\omega$, рад/с')\n",
    "plt.ylabel('$\\phi$, рад')\n",
    "plt.plot(nu['omega'], nu['dphi'])\n",
    "plt.axhline(y = -math.pi/2, linestyle = '--')\n",
    "plt.axhline(y = -math.pi/4, linestyle = '--')\n",
    "plt.errorbar(nu['omega'], nu['dphi'], xerr = nu['omega'] * eps, yerr = abs(nu['dphi']) * eps, c = 'black', fmt = 'None')\n",
    "plt.plot(reversex, reversey, c = 'red', linestyle = '--')\n",
    "plt.show()"
   ]
  }
],

"metadata": {
   "kernelspec": {
    "display_name": "Python 3.10.5 64-bit",
    "language": "python",
    "name": "python3"
   },
   "language_info": {
    "codemirror_mode": {
     "name": "ipython",
     "version": 3
    },
    "file_extension": ".py",
    "mimetype": "text/x-python",
    "name": "python",
    "nbconvert_exporter": "python",
    "pygments_lexer": "ipython3",
    "version": "3.10.4"
   },
   "vscode": {
    "interpreter": {
     "hash": "aee8b7b246df8f9039afb4144a1f6fd8d2ca17a180786b69acc140d282b71a49"
    }
   }
  },
  "nbformat": 4,
  "nbformat_minor": 5
 }
 